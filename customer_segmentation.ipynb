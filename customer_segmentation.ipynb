{
  "nbformat": 4,
  "nbformat_minor": 0,
  "metadata": {
    "colab": {
      "provenance": []
    },
    "kernelspec": {
      "name": "python3",
      "display_name": "Python 3"
    },
    "language_info": {
      "name": "python"
    }
  },
  "cells": [
    {
      "cell_type": "markdown",
      "source": [
        "# Comparing Groups in a Practical Context\n",
        "\n",
        "Our goal is to determine whether the users described in the desktop dataframe\n",
        "and the users described in the laptop dataframe differ significantly from each\n",
        "other"
      ],
      "metadata": {
        "id": "71QIIxoKXjX1"
      }
    },
    {
      "cell_type": "code",
      "execution_count": null,
      "metadata": {
        "id": "8fmk-82HH9w3"
      },
      "outputs": [],
      "source": [
        "import pandas as pd\n",
        "import numpy as np\n",
        "import matplotlib.pyplot as plt\n",
        "import seaborn as sns\n",
        "import scipy\n",
        "\n",
        "desktop = pd.read_csv('desktop.csv')\n",
        "laptop = pd.read_csv('laptop.csv')"
      ]
    },
    {
      "cell_type": "code",
      "source": [
        "desktop.head()"
      ],
      "metadata": {
        "colab": {
          "base_uri": "https://localhost:8080/",
          "height": 206
        },
        "id": "qNtBnPI_KIua",
        "outputId": "27fe54d0-d9e3-4e33-c872-97ef475d4226"
      },
      "execution_count": null,
      "outputs": [
        {
          "output_type": "execute_result",
          "data": {
            "text/plain": [
              "   userid  spending  age  visits\n",
              "0       1      1250   31     126\n",
              "1       2       900   27       5\n",
              "2       3         0   30     459\n",
              "3       4      2890   22      18\n",
              "4       5      1460   38      20"
            ],
            "text/html": [
              "\n",
              "  <div id=\"df-c8da285a-8603-47ba-b272-0f0828223a17\" class=\"colab-df-container\">\n",
              "    <div>\n",
              "<style scoped>\n",
              "    .dataframe tbody tr th:only-of-type {\n",
              "        vertical-align: middle;\n",
              "    }\n",
              "\n",
              "    .dataframe tbody tr th {\n",
              "        vertical-align: top;\n",
              "    }\n",
              "\n",
              "    .dataframe thead th {\n",
              "        text-align: right;\n",
              "    }\n",
              "</style>\n",
              "<table border=\"1\" class=\"dataframe\">\n",
              "  <thead>\n",
              "    <tr style=\"text-align: right;\">\n",
              "      <th></th>\n",
              "      <th>userid</th>\n",
              "      <th>spending</th>\n",
              "      <th>age</th>\n",
              "      <th>visits</th>\n",
              "    </tr>\n",
              "  </thead>\n",
              "  <tbody>\n",
              "    <tr>\n",
              "      <th>0</th>\n",
              "      <td>1</td>\n",
              "      <td>1250</td>\n",
              "      <td>31</td>\n",
              "      <td>126</td>\n",
              "    </tr>\n",
              "    <tr>\n",
              "      <th>1</th>\n",
              "      <td>2</td>\n",
              "      <td>900</td>\n",
              "      <td>27</td>\n",
              "      <td>5</td>\n",
              "    </tr>\n",
              "    <tr>\n",
              "      <th>2</th>\n",
              "      <td>3</td>\n",
              "      <td>0</td>\n",
              "      <td>30</td>\n",
              "      <td>459</td>\n",
              "    </tr>\n",
              "    <tr>\n",
              "      <th>3</th>\n",
              "      <td>4</td>\n",
              "      <td>2890</td>\n",
              "      <td>22</td>\n",
              "      <td>18</td>\n",
              "    </tr>\n",
              "    <tr>\n",
              "      <th>4</th>\n",
              "      <td>5</td>\n",
              "      <td>1460</td>\n",
              "      <td>38</td>\n",
              "      <td>20</td>\n",
              "    </tr>\n",
              "  </tbody>\n",
              "</table>\n",
              "</div>\n",
              "    <div class=\"colab-df-buttons\">\n",
              "\n",
              "  <div class=\"colab-df-container\">\n",
              "    <button class=\"colab-df-convert\" onclick=\"convertToInteractive('df-c8da285a-8603-47ba-b272-0f0828223a17')\"\n",
              "            title=\"Convert this dataframe to an interactive table.\"\n",
              "            style=\"display:none;\">\n",
              "\n",
              "  <svg xmlns=\"http://www.w3.org/2000/svg\" height=\"24px\" viewBox=\"0 -960 960 960\">\n",
              "    <path d=\"M120-120v-720h720v720H120Zm60-500h600v-160H180v160Zm220 220h160v-160H400v160Zm0 220h160v-160H400v160ZM180-400h160v-160H180v160Zm440 0h160v-160H620v160ZM180-180h160v-160H180v160Zm440 0h160v-160H620v160Z\"/>\n",
              "  </svg>\n",
              "    </button>\n",
              "\n",
              "  <style>\n",
              "    .colab-df-container {\n",
              "      display:flex;\n",
              "      gap: 12px;\n",
              "    }\n",
              "\n",
              "    .colab-df-convert {\n",
              "      background-color: #E8F0FE;\n",
              "      border: none;\n",
              "      border-radius: 50%;\n",
              "      cursor: pointer;\n",
              "      display: none;\n",
              "      fill: #1967D2;\n",
              "      height: 32px;\n",
              "      padding: 0 0 0 0;\n",
              "      width: 32px;\n",
              "    }\n",
              "\n",
              "    .colab-df-convert:hover {\n",
              "      background-color: #E2EBFA;\n",
              "      box-shadow: 0px 1px 2px rgba(60, 64, 67, 0.3), 0px 1px 3px 1px rgba(60, 64, 67, 0.15);\n",
              "      fill: #174EA6;\n",
              "    }\n",
              "\n",
              "    .colab-df-buttons div {\n",
              "      margin-bottom: 4px;\n",
              "    }\n",
              "\n",
              "    [theme=dark] .colab-df-convert {\n",
              "      background-color: #3B4455;\n",
              "      fill: #D2E3FC;\n",
              "    }\n",
              "\n",
              "    [theme=dark] .colab-df-convert:hover {\n",
              "      background-color: #434B5C;\n",
              "      box-shadow: 0px 1px 3px 1px rgba(0, 0, 0, 0.15);\n",
              "      filter: drop-shadow(0px 1px 2px rgba(0, 0, 0, 0.3));\n",
              "      fill: #FFFFFF;\n",
              "    }\n",
              "  </style>\n",
              "\n",
              "    <script>\n",
              "      const buttonEl =\n",
              "        document.querySelector('#df-c8da285a-8603-47ba-b272-0f0828223a17 button.colab-df-convert');\n",
              "      buttonEl.style.display =\n",
              "        google.colab.kernel.accessAllowed ? 'block' : 'none';\n",
              "\n",
              "      async function convertToInteractive(key) {\n",
              "        const element = document.querySelector('#df-c8da285a-8603-47ba-b272-0f0828223a17');\n",
              "        const dataTable =\n",
              "          await google.colab.kernel.invokeFunction('convertToInteractive',\n",
              "                                                    [key], {});\n",
              "        if (!dataTable) return;\n",
              "\n",
              "        const docLinkHtml = 'Like what you see? Visit the ' +\n",
              "          '<a target=\"_blank\" href=https://colab.research.google.com/notebooks/data_table.ipynb>data table notebook</a>'\n",
              "          + ' to learn more about interactive tables.';\n",
              "        element.innerHTML = '';\n",
              "        dataTable['output_type'] = 'display_data';\n",
              "        await google.colab.output.renderOutput(dataTable, element);\n",
              "        const docLink = document.createElement('div');\n",
              "        docLink.innerHTML = docLinkHtml;\n",
              "        element.appendChild(docLink);\n",
              "      }\n",
              "    </script>\n",
              "  </div>\n",
              "\n",
              "\n",
              "<div id=\"df-151e7897-8eaf-4512-9350-bddd675dd616\">\n",
              "  <button class=\"colab-df-quickchart\" onclick=\"quickchart('df-151e7897-8eaf-4512-9350-bddd675dd616')\"\n",
              "            title=\"Suggest charts\"\n",
              "            style=\"display:none;\">\n",
              "\n",
              "<svg xmlns=\"http://www.w3.org/2000/svg\" height=\"24px\"viewBox=\"0 0 24 24\"\n",
              "     width=\"24px\">\n",
              "    <g>\n",
              "        <path d=\"M19 3H5c-1.1 0-2 .9-2 2v14c0 1.1.9 2 2 2h14c1.1 0 2-.9 2-2V5c0-1.1-.9-2-2-2zM9 17H7v-7h2v7zm4 0h-2V7h2v10zm4 0h-2v-4h2v4z\"/>\n",
              "    </g>\n",
              "</svg>\n",
              "  </button>\n",
              "\n",
              "<style>\n",
              "  .colab-df-quickchart {\n",
              "      --bg-color: #E8F0FE;\n",
              "      --fill-color: #1967D2;\n",
              "      --hover-bg-color: #E2EBFA;\n",
              "      --hover-fill-color: #174EA6;\n",
              "      --disabled-fill-color: #AAA;\n",
              "      --disabled-bg-color: #DDD;\n",
              "  }\n",
              "\n",
              "  [theme=dark] .colab-df-quickchart {\n",
              "      --bg-color: #3B4455;\n",
              "      --fill-color: #D2E3FC;\n",
              "      --hover-bg-color: #434B5C;\n",
              "      --hover-fill-color: #FFFFFF;\n",
              "      --disabled-bg-color: #3B4455;\n",
              "      --disabled-fill-color: #666;\n",
              "  }\n",
              "\n",
              "  .colab-df-quickchart {\n",
              "    background-color: var(--bg-color);\n",
              "    border: none;\n",
              "    border-radius: 50%;\n",
              "    cursor: pointer;\n",
              "    display: none;\n",
              "    fill: var(--fill-color);\n",
              "    height: 32px;\n",
              "    padding: 0;\n",
              "    width: 32px;\n",
              "  }\n",
              "\n",
              "  .colab-df-quickchart:hover {\n",
              "    background-color: var(--hover-bg-color);\n",
              "    box-shadow: 0 1px 2px rgba(60, 64, 67, 0.3), 0 1px 3px 1px rgba(60, 64, 67, 0.15);\n",
              "    fill: var(--button-hover-fill-color);\n",
              "  }\n",
              "\n",
              "  .colab-df-quickchart-complete:disabled,\n",
              "  .colab-df-quickchart-complete:disabled:hover {\n",
              "    background-color: var(--disabled-bg-color);\n",
              "    fill: var(--disabled-fill-color);\n",
              "    box-shadow: none;\n",
              "  }\n",
              "\n",
              "  .colab-df-spinner {\n",
              "    border: 2px solid var(--fill-color);\n",
              "    border-color: transparent;\n",
              "    border-bottom-color: var(--fill-color);\n",
              "    animation:\n",
              "      spin 1s steps(1) infinite;\n",
              "  }\n",
              "\n",
              "  @keyframes spin {\n",
              "    0% {\n",
              "      border-color: transparent;\n",
              "      border-bottom-color: var(--fill-color);\n",
              "      border-left-color: var(--fill-color);\n",
              "    }\n",
              "    20% {\n",
              "      border-color: transparent;\n",
              "      border-left-color: var(--fill-color);\n",
              "      border-top-color: var(--fill-color);\n",
              "    }\n",
              "    30% {\n",
              "      border-color: transparent;\n",
              "      border-left-color: var(--fill-color);\n",
              "      border-top-color: var(--fill-color);\n",
              "      border-right-color: var(--fill-color);\n",
              "    }\n",
              "    40% {\n",
              "      border-color: transparent;\n",
              "      border-right-color: var(--fill-color);\n",
              "      border-top-color: var(--fill-color);\n",
              "    }\n",
              "    60% {\n",
              "      border-color: transparent;\n",
              "      border-right-color: var(--fill-color);\n",
              "    }\n",
              "    80% {\n",
              "      border-color: transparent;\n",
              "      border-right-color: var(--fill-color);\n",
              "      border-bottom-color: var(--fill-color);\n",
              "    }\n",
              "    90% {\n",
              "      border-color: transparent;\n",
              "      border-bottom-color: var(--fill-color);\n",
              "    }\n",
              "  }\n",
              "</style>\n",
              "\n",
              "  <script>\n",
              "    async function quickchart(key) {\n",
              "      const quickchartButtonEl =\n",
              "        document.querySelector('#' + key + ' button');\n",
              "      quickchartButtonEl.disabled = true;  // To prevent multiple clicks.\n",
              "      quickchartButtonEl.classList.add('colab-df-spinner');\n",
              "      try {\n",
              "        const charts = await google.colab.kernel.invokeFunction(\n",
              "            'suggestCharts', [key], {});\n",
              "      } catch (error) {\n",
              "        console.error('Error during call to suggestCharts:', error);\n",
              "      }\n",
              "      quickchartButtonEl.classList.remove('colab-df-spinner');\n",
              "      quickchartButtonEl.classList.add('colab-df-quickchart-complete');\n",
              "    }\n",
              "    (() => {\n",
              "      let quickchartButtonEl =\n",
              "        document.querySelector('#df-151e7897-8eaf-4512-9350-bddd675dd616 button');\n",
              "      quickchartButtonEl.style.display =\n",
              "        google.colab.kernel.accessAllowed ? 'block' : 'none';\n",
              "    })();\n",
              "  </script>\n",
              "</div>\n",
              "\n",
              "    </div>\n",
              "  </div>\n"
            ],
            "application/vnd.google.colaboratory.intrinsic+json": {
              "type": "dataframe",
              "variable_name": "desktop",
              "summary": "{\n  \"name\": \"desktop\",\n  \"rows\": 30,\n  \"fields\": [\n    {\n      \"column\": \"userid\",\n      \"properties\": {\n        \"dtype\": \"number\",\n        \"std\": 8,\n        \"min\": 1,\n        \"max\": 30,\n        \"num_unique_values\": 30,\n        \"samples\": [\n          28,\n          16,\n          24\n        ],\n        \"semantic_type\": \"\",\n        \"description\": \"\"\n      }\n    },\n    {\n      \"column\": \"spending\",\n      \"properties\": {\n        \"dtype\": \"number\",\n        \"std\": 907,\n        \"min\": 0,\n        \"max\": 3400,\n        \"num_unique_values\": 21,\n        \"samples\": [\n          1250,\n          720,\n          1700\n        ],\n        \"semantic_type\": \"\",\n        \"description\": \"\"\n      }\n    },\n    {\n      \"column\": \"age\",\n      \"properties\": {\n        \"dtype\": \"number\",\n        \"std\": 15,\n        \"min\": 14,\n        \"max\": 79,\n        \"num_unique_values\": 26,\n        \"samples\": [\n          41,\n          42,\n          31\n        ],\n        \"semantic_type\": \"\",\n        \"description\": \"\"\n      }\n    },\n    {\n      \"column\": \"visits\",\n      \"properties\": {\n        \"dtype\": \"number\",\n        \"std\": 311,\n        \"min\": 5,\n        \"max\": 1256,\n        \"num_unique_values\": 27,\n        \"samples\": [\n          610,\n          953,\n          154\n        ],\n        \"semantic_type\": \"\",\n        \"description\": \"\"\n      }\n    }\n  ]\n}"
            }
          },
          "metadata": {},
          "execution_count": 31
        }
      ]
    },
    {
      "cell_type": "code",
      "source": [
        "laptop.head()"
      ],
      "metadata": {
        "colab": {
          "base_uri": "https://localhost:8080/",
          "height": 206
        },
        "id": "D2omGDC9KQ5h",
        "outputId": "cd25c330-3a89-4f0c-c7c9-ace3ff993f1d"
      },
      "execution_count": null,
      "outputs": [
        {
          "output_type": "execute_result",
          "data": {
            "text/plain": [
              "   userid  spending  age  visits\n",
              "0      31      1499   32      12\n",
              "1      32       799   23      40\n",
              "2      33      1200   45      22\n",
              "3      34         0   59     126\n",
              "4      35      1350   17      85"
            ],
            "text/html": [
              "\n",
              "  <div id=\"df-e55ac8f5-467c-400d-9a4d-f3a0bf9140d8\" class=\"colab-df-container\">\n",
              "    <div>\n",
              "<style scoped>\n",
              "    .dataframe tbody tr th:only-of-type {\n",
              "        vertical-align: middle;\n",
              "    }\n",
              "\n",
              "    .dataframe tbody tr th {\n",
              "        vertical-align: top;\n",
              "    }\n",
              "\n",
              "    .dataframe thead th {\n",
              "        text-align: right;\n",
              "    }\n",
              "</style>\n",
              "<table border=\"1\" class=\"dataframe\">\n",
              "  <thead>\n",
              "    <tr style=\"text-align: right;\">\n",
              "      <th></th>\n",
              "      <th>userid</th>\n",
              "      <th>spending</th>\n",
              "      <th>age</th>\n",
              "      <th>visits</th>\n",
              "    </tr>\n",
              "  </thead>\n",
              "  <tbody>\n",
              "    <tr>\n",
              "      <th>0</th>\n",
              "      <td>31</td>\n",
              "      <td>1499</td>\n",
              "      <td>32</td>\n",
              "      <td>12</td>\n",
              "    </tr>\n",
              "    <tr>\n",
              "      <th>1</th>\n",
              "      <td>32</td>\n",
              "      <td>799</td>\n",
              "      <td>23</td>\n",
              "      <td>40</td>\n",
              "    </tr>\n",
              "    <tr>\n",
              "      <th>2</th>\n",
              "      <td>33</td>\n",
              "      <td>1200</td>\n",
              "      <td>45</td>\n",
              "      <td>22</td>\n",
              "    </tr>\n",
              "    <tr>\n",
              "      <th>3</th>\n",
              "      <td>34</td>\n",
              "      <td>0</td>\n",
              "      <td>59</td>\n",
              "      <td>126</td>\n",
              "    </tr>\n",
              "    <tr>\n",
              "      <th>4</th>\n",
              "      <td>35</td>\n",
              "      <td>1350</td>\n",
              "      <td>17</td>\n",
              "      <td>85</td>\n",
              "    </tr>\n",
              "  </tbody>\n",
              "</table>\n",
              "</div>\n",
              "    <div class=\"colab-df-buttons\">\n",
              "\n",
              "  <div class=\"colab-df-container\">\n",
              "    <button class=\"colab-df-convert\" onclick=\"convertToInteractive('df-e55ac8f5-467c-400d-9a4d-f3a0bf9140d8')\"\n",
              "            title=\"Convert this dataframe to an interactive table.\"\n",
              "            style=\"display:none;\">\n",
              "\n",
              "  <svg xmlns=\"http://www.w3.org/2000/svg\" height=\"24px\" viewBox=\"0 -960 960 960\">\n",
              "    <path d=\"M120-120v-720h720v720H120Zm60-500h600v-160H180v160Zm220 220h160v-160H400v160Zm0 220h160v-160H400v160ZM180-400h160v-160H180v160Zm440 0h160v-160H620v160ZM180-180h160v-160H180v160Zm440 0h160v-160H620v160Z\"/>\n",
              "  </svg>\n",
              "    </button>\n",
              "\n",
              "  <style>\n",
              "    .colab-df-container {\n",
              "      display:flex;\n",
              "      gap: 12px;\n",
              "    }\n",
              "\n",
              "    .colab-df-convert {\n",
              "      background-color: #E8F0FE;\n",
              "      border: none;\n",
              "      border-radius: 50%;\n",
              "      cursor: pointer;\n",
              "      display: none;\n",
              "      fill: #1967D2;\n",
              "      height: 32px;\n",
              "      padding: 0 0 0 0;\n",
              "      width: 32px;\n",
              "    }\n",
              "\n",
              "    .colab-df-convert:hover {\n",
              "      background-color: #E2EBFA;\n",
              "      box-shadow: 0px 1px 2px rgba(60, 64, 67, 0.3), 0px 1px 3px 1px rgba(60, 64, 67, 0.15);\n",
              "      fill: #174EA6;\n",
              "    }\n",
              "\n",
              "    .colab-df-buttons div {\n",
              "      margin-bottom: 4px;\n",
              "    }\n",
              "\n",
              "    [theme=dark] .colab-df-convert {\n",
              "      background-color: #3B4455;\n",
              "      fill: #D2E3FC;\n",
              "    }\n",
              "\n",
              "    [theme=dark] .colab-df-convert:hover {\n",
              "      background-color: #434B5C;\n",
              "      box-shadow: 0px 1px 3px 1px rgba(0, 0, 0, 0.15);\n",
              "      filter: drop-shadow(0px 1px 2px rgba(0, 0, 0, 0.3));\n",
              "      fill: #FFFFFF;\n",
              "    }\n",
              "  </style>\n",
              "\n",
              "    <script>\n",
              "      const buttonEl =\n",
              "        document.querySelector('#df-e55ac8f5-467c-400d-9a4d-f3a0bf9140d8 button.colab-df-convert');\n",
              "      buttonEl.style.display =\n",
              "        google.colab.kernel.accessAllowed ? 'block' : 'none';\n",
              "\n",
              "      async function convertToInteractive(key) {\n",
              "        const element = document.querySelector('#df-e55ac8f5-467c-400d-9a4d-f3a0bf9140d8');\n",
              "        const dataTable =\n",
              "          await google.colab.kernel.invokeFunction('convertToInteractive',\n",
              "                                                    [key], {});\n",
              "        if (!dataTable) return;\n",
              "\n",
              "        const docLinkHtml = 'Like what you see? Visit the ' +\n",
              "          '<a target=\"_blank\" href=https://colab.research.google.com/notebooks/data_table.ipynb>data table notebook</a>'\n",
              "          + ' to learn more about interactive tables.';\n",
              "        element.innerHTML = '';\n",
              "        dataTable['output_type'] = 'display_data';\n",
              "        await google.colab.output.renderOutput(dataTable, element);\n",
              "        const docLink = document.createElement('div');\n",
              "        docLink.innerHTML = docLinkHtml;\n",
              "        element.appendChild(docLink);\n",
              "      }\n",
              "    </script>\n",
              "  </div>\n",
              "\n",
              "\n",
              "<div id=\"df-c6afdb09-8e41-4d41-ad2a-6005cbee542a\">\n",
              "  <button class=\"colab-df-quickchart\" onclick=\"quickchart('df-c6afdb09-8e41-4d41-ad2a-6005cbee542a')\"\n",
              "            title=\"Suggest charts\"\n",
              "            style=\"display:none;\">\n",
              "\n",
              "<svg xmlns=\"http://www.w3.org/2000/svg\" height=\"24px\"viewBox=\"0 0 24 24\"\n",
              "     width=\"24px\">\n",
              "    <g>\n",
              "        <path d=\"M19 3H5c-1.1 0-2 .9-2 2v14c0 1.1.9 2 2 2h14c1.1 0 2-.9 2-2V5c0-1.1-.9-2-2-2zM9 17H7v-7h2v7zm4 0h-2V7h2v10zm4 0h-2v-4h2v4z\"/>\n",
              "    </g>\n",
              "</svg>\n",
              "  </button>\n",
              "\n",
              "<style>\n",
              "  .colab-df-quickchart {\n",
              "      --bg-color: #E8F0FE;\n",
              "      --fill-color: #1967D2;\n",
              "      --hover-bg-color: #E2EBFA;\n",
              "      --hover-fill-color: #174EA6;\n",
              "      --disabled-fill-color: #AAA;\n",
              "      --disabled-bg-color: #DDD;\n",
              "  }\n",
              "\n",
              "  [theme=dark] .colab-df-quickchart {\n",
              "      --bg-color: #3B4455;\n",
              "      --fill-color: #D2E3FC;\n",
              "      --hover-bg-color: #434B5C;\n",
              "      --hover-fill-color: #FFFFFF;\n",
              "      --disabled-bg-color: #3B4455;\n",
              "      --disabled-fill-color: #666;\n",
              "  }\n",
              "\n",
              "  .colab-df-quickchart {\n",
              "    background-color: var(--bg-color);\n",
              "    border: none;\n",
              "    border-radius: 50%;\n",
              "    cursor: pointer;\n",
              "    display: none;\n",
              "    fill: var(--fill-color);\n",
              "    height: 32px;\n",
              "    padding: 0;\n",
              "    width: 32px;\n",
              "  }\n",
              "\n",
              "  .colab-df-quickchart:hover {\n",
              "    background-color: var(--hover-bg-color);\n",
              "    box-shadow: 0 1px 2px rgba(60, 64, 67, 0.3), 0 1px 3px 1px rgba(60, 64, 67, 0.15);\n",
              "    fill: var(--button-hover-fill-color);\n",
              "  }\n",
              "\n",
              "  .colab-df-quickchart-complete:disabled,\n",
              "  .colab-df-quickchart-complete:disabled:hover {\n",
              "    background-color: var(--disabled-bg-color);\n",
              "    fill: var(--disabled-fill-color);\n",
              "    box-shadow: none;\n",
              "  }\n",
              "\n",
              "  .colab-df-spinner {\n",
              "    border: 2px solid var(--fill-color);\n",
              "    border-color: transparent;\n",
              "    border-bottom-color: var(--fill-color);\n",
              "    animation:\n",
              "      spin 1s steps(1) infinite;\n",
              "  }\n",
              "\n",
              "  @keyframes spin {\n",
              "    0% {\n",
              "      border-color: transparent;\n",
              "      border-bottom-color: var(--fill-color);\n",
              "      border-left-color: var(--fill-color);\n",
              "    }\n",
              "    20% {\n",
              "      border-color: transparent;\n",
              "      border-left-color: var(--fill-color);\n",
              "      border-top-color: var(--fill-color);\n",
              "    }\n",
              "    30% {\n",
              "      border-color: transparent;\n",
              "      border-left-color: var(--fill-color);\n",
              "      border-top-color: var(--fill-color);\n",
              "      border-right-color: var(--fill-color);\n",
              "    }\n",
              "    40% {\n",
              "      border-color: transparent;\n",
              "      border-right-color: var(--fill-color);\n",
              "      border-top-color: var(--fill-color);\n",
              "    }\n",
              "    60% {\n",
              "      border-color: transparent;\n",
              "      border-right-color: var(--fill-color);\n",
              "    }\n",
              "    80% {\n",
              "      border-color: transparent;\n",
              "      border-right-color: var(--fill-color);\n",
              "      border-bottom-color: var(--fill-color);\n",
              "    }\n",
              "    90% {\n",
              "      border-color: transparent;\n",
              "      border-bottom-color: var(--fill-color);\n",
              "    }\n",
              "  }\n",
              "</style>\n",
              "\n",
              "  <script>\n",
              "    async function quickchart(key) {\n",
              "      const quickchartButtonEl =\n",
              "        document.querySelector('#' + key + ' button');\n",
              "      quickchartButtonEl.disabled = true;  // To prevent multiple clicks.\n",
              "      quickchartButtonEl.classList.add('colab-df-spinner');\n",
              "      try {\n",
              "        const charts = await google.colab.kernel.invokeFunction(\n",
              "            'suggestCharts', [key], {});\n",
              "      } catch (error) {\n",
              "        console.error('Error during call to suggestCharts:', error);\n",
              "      }\n",
              "      quickchartButtonEl.classList.remove('colab-df-spinner');\n",
              "      quickchartButtonEl.classList.add('colab-df-quickchart-complete');\n",
              "    }\n",
              "    (() => {\n",
              "      let quickchartButtonEl =\n",
              "        document.querySelector('#df-c6afdb09-8e41-4d41-ad2a-6005cbee542a button');\n",
              "      quickchartButtonEl.style.display =\n",
              "        google.colab.kernel.accessAllowed ? 'block' : 'none';\n",
              "    })();\n",
              "  </script>\n",
              "</div>\n",
              "\n",
              "    </div>\n",
              "  </div>\n"
            ],
            "application/vnd.google.colaboratory.intrinsic+json": {
              "type": "dataframe",
              "variable_name": "laptop",
              "summary": "{\n  \"name\": \"laptop\",\n  \"rows\": 30,\n  \"fields\": [\n    {\n      \"column\": \"userid\",\n      \"properties\": {\n        \"dtype\": \"number\",\n        \"std\": 8,\n        \"min\": 31,\n        \"max\": 60,\n        \"num_unique_values\": 30,\n        \"samples\": [\n          58,\n          46,\n          54\n        ],\n        \"semantic_type\": \"\",\n        \"description\": \"\"\n      }\n    },\n    {\n      \"column\": \"spending\",\n      \"properties\": {\n        \"dtype\": \"number\",\n        \"std\": 1252,\n        \"min\": 0,\n        \"max\": 4600,\n        \"num_unique_values\": 26,\n        \"samples\": [\n          125,\n          2199,\n          1499\n        ],\n        \"semantic_type\": \"\",\n        \"description\": \"\"\n      }\n    },\n    {\n      \"column\": \"age\",\n      \"properties\": {\n        \"dtype\": \"number\",\n        \"std\": 17,\n        \"min\": 16,\n        \"max\": 79,\n        \"num_unique_values\": 24,\n        \"samples\": [\n          29,\n          34,\n          32\n        ],\n        \"semantic_type\": \"\",\n        \"description\": \"\"\n      }\n    },\n    {\n      \"column\": \"visits\",\n      \"properties\": {\n        \"dtype\": \"number\",\n        \"std\": 323,\n        \"min\": 6,\n        \"max\": 1250,\n        \"num_unique_values\": 27,\n        \"samples\": [\n          180,\n          72,\n          99\n        ],\n        \"semantic_type\": \"\",\n        \"description\": \"\"\n      }\n    }\n  ]\n}"
            }
          },
          "metadata": {},
          "execution_count": 32
        }
      ]
    },
    {
      "cell_type": "markdown",
      "source": [
        "**userid** - contains a unique number identifying a particular user\n",
        "\n",
        "**spending** - contains a record of how much that user has spent at your companies website\n",
        "\n",
        "**age** - holds the users age\n",
        "\n",
        "**visits** - holds the number of times the user has visited pages on your website"
      ],
      "metadata": {
        "id": "Ge8ByZAjWsGD"
      }
    },
    {
      "cell_type": "markdown",
      "source": [
        "We can start with a plot of the amounts that subscribers to each list have spent on the company's products:"
      ],
      "metadata": {
        "id": "eRGWAjn_X7AF"
      }
    },
    {
      "cell_type": "code",
      "source": [
        "sns.reset_orig()\n",
        "fig1, ax1 = plt.subplots()\n",
        "ax1.boxplot([desktop['spending'].values, laptop['spending'].values])\n",
        "ax1.set_title('Spending by Desktop and Laptop Subscribers')\n",
        "ax1.set_ylabel('Spending')\n",
        "plt.xticks([1,2], ['Desktop Subscribers', 'Laptop Subscribers'])\n",
        "plt.show()"
      ],
      "metadata": {
        "colab": {
          "base_uri": "https://localhost:8080/",
          "height": 452
        },
        "id": "6JxBIVYpYLwq",
        "outputId": "499ccc74-6fba-49a3-be25-8114aa51929e"
      },
      "execution_count": null,
      "outputs": [
        {
          "output_type": "display_data",
          "data": {
            "text/plain": [
              "<Figure size 640x480 with 1 Axes>"
            ],
            "image/png": "[encoded data removed]"
          },
          "metadata": {}
        }
      ]
    },
    {
      "cell_type": "code",
      "source": [
        "desktop.describe()"
      ],
      "metadata": {
        "colab": {
          "base_uri": "https://localhost:8080/",
          "height": 300
        },
        "id": "ebgE-lV-a5JA",
        "outputId": "4e733721-c883-421b-d0d6-3046b2ed627a"
      },
      "execution_count": null,
      "outputs": [
        {
          "output_type": "execute_result",
          "data": {
            "text/plain": [
              "          userid     spending        age       visits\n",
              "count  30.000000    30.000000  30.000000    30.000000\n",
              "mean   15.500000  1028.666667  35.766667   210.800000\n",
              "std     8.803408   907.411032  15.199100   311.468203\n",
              "min     1.000000     0.000000  14.000000     5.000000\n",
              "25%     8.250000   127.500000  25.500000    46.750000\n",
              "50%    15.500000   925.000000  32.000000   100.000000\n",
              "75%    22.750000  1528.250000  44.250000   145.000000\n",
              "max    30.000000  3400.000000  79.000000  1256.000000"
            ],
            "text/html": [
              "\n",
              "  <div id=\"df-f6f91202-7c8e-4bd9-a21f-bb81e9be8b84\" class=\"colab-df-container\">\n",
              "    <div>\n",
              "<style scoped>\n",
              "    .dataframe tbody tr th:only-of-type {\n",
              "        vertical-align: middle;\n",
              "    }\n",
              "\n",
              "    .dataframe tbody tr th {\n",
              "        vertical-align: top;\n",
              "    }\n",
              "\n",
              "    .dataframe thead th {\n",
              "        text-align: right;\n",
              "    }\n",
              "</style>\n",
              "<table border=\"1\" class=\"dataframe\">\n",
              "  <thead>\n",
              "    <tr style=\"text-align: right;\">\n",
              "      <th></th>\n",
              "      <th>userid</th>\n",
              "      <th>spending</th>\n",
              "      <th>age</th>\n",
              "      <th>visits</th>\n",
              "    </tr>\n",
              "  </thead>\n",
              "  <tbody>\n",
              "    <tr>\n",
              "      <th>count</th>\n",
              "      <td>30.000000</td>\n",
              "      <td>30.000000</td>\n",
              "      <td>30.000000</td>\n",
              "      <td>30.000000</td>\n",
              "    </tr>\n",
              "    <tr>\n",
              "      <th>mean</th>\n",
              "      <td>15.500000</td>\n",
              "      <td>1028.666667</td>\n",
              "      <td>35.766667</td>\n",
              "      <td>210.800000</td>\n",
              "    </tr>\n",
              "    <tr>\n",
              "      <th>std</th>\n",
              "      <td>8.803408</td>\n",
              "      <td>907.411032</td>\n",
              "      <td>15.199100</td>\n",
              "      <td>311.468203</td>\n",
              "    </tr>\n",
              "    <tr>\n",
              "      <th>min</th>\n",
              "      <td>1.000000</td>\n",
              "      <td>0.000000</td>\n",
              "      <td>14.000000</td>\n",
              "      <td>5.000000</td>\n",
              "    </tr>\n",
              "    <tr>\n",
              "      <th>25%</th>\n",
              "      <td>8.250000</td>\n",
              "      <td>127.500000</td>\n",
              "      <td>25.500000</td>\n",
              "      <td>46.750000</td>\n",
              "    </tr>\n",
              "    <tr>\n",
              "      <th>50%</th>\n",
              "      <td>15.500000</td>\n",
              "      <td>925.000000</td>\n",
              "      <td>32.000000</td>\n",
              "      <td>100.000000</td>\n",
              "    </tr>\n",
              "    <tr>\n",
              "      <th>75%</th>\n",
              "      <td>22.750000</td>\n",
              "      <td>1528.250000</td>\n",
              "      <td>44.250000</td>\n",
              "      <td>145.000000</td>\n",
              "    </tr>\n",
              "    <tr>\n",
              "      <th>max</th>\n",
              "      <td>30.000000</td>\n",
              "      <td>3400.000000</td>\n",
              "      <td>79.000000</td>\n",
              "      <td>1256.000000</td>\n",
              "    </tr>\n",
              "  </tbody>\n",
              "</table>\n",
              "</div>\n",
              "    <div class=\"colab-df-buttons\">\n",
              "\n",
              "  <div class=\"colab-df-container\">\n",
              "    <button class=\"colab-df-convert\" onclick=\"convertToInteractive('df-f6f91202-7c8e-4bd9-a21f-bb81e9be8b84')\"\n",
              "            title=\"Convert this dataframe to an interactive table.\"\n",
              "            style=\"display:none;\">\n",
              "\n",
              "  <svg xmlns=\"http://www.w3.org/2000/svg\" height=\"24px\" viewBox=\"0 -960 960 960\">\n",
              "    <path d=\"M120-120v-720h720v720H120Zm60-500h600v-160H180v160Zm220 220h160v-160H400v160Zm0 220h160v-160H400v160ZM180-400h160v-160H180v160Zm440 0h160v-160H620v160ZM180-180h160v-160H180v160Zm440 0h160v-160H620v160Z\"/>\n",
              "  </svg>\n",
              "    </button>\n",
              "\n",
              "  <style>\n",
              "    .colab-df-container {\n",
              "      display:flex;\n",
              "      gap: 12px;\n",
              "    }\n",
              "\n",
              "    .colab-df-convert {\n",
              "      background-color: #E8F0FE;\n",
              "      border: none;\n",
              "      border-radius: 50%;\n",
              "      cursor: pointer;\n",
              "      display: none;\n",
              "      fill: #1967D2;\n",
              "      height: 32px;\n",
              "      padding: 0 0 0 0;\n",
              "      width: 32px;\n",
              "    }\n",
              "\n",
              "    .colab-df-convert:hover {\n",
              "      background-color: #E2EBFA;\n",
              "      box-shadow: 0px 1px 2px rgba(60, 64, 67, 0.3), 0px 1px 3px 1px rgba(60, 64, 67, 0.15);\n",
              "      fill: #174EA6;\n",
              "    }\n",
              "\n",
              "    .colab-df-buttons div {\n",
              "      margin-bottom: 4px;\n",
              "    }\n",
              "\n",
              "    [theme=dark] .colab-df-convert {\n",
              "      background-color: #3B4455;\n",
              "      fill: #D2E3FC;\n",
              "    }\n",
              "\n",
              "    [theme=dark] .colab-df-convert:hover {\n",
              "      background-color: #434B5C;\n",
              "      box-shadow: 0px 1px 3px 1px rgba(0, 0, 0, 0.15);\n",
              "      filter: drop-shadow(0px 1px 2px rgba(0, 0, 0, 0.3));\n",
              "      fill: #FFFFFF;\n",
              "    }\n",
              "  </style>\n",
              "\n",
              "    <script>\n",
              "      const buttonEl =\n",
              "        document.querySelector('#df-f6f91202-7c8e-4bd9-a21f-bb81e9be8b84 button.colab-df-convert');\n",
              "      buttonEl.style.display =\n",
              "        google.colab.kernel.accessAllowed ? 'block' : 'none';\n",
              "\n",
              "      async function convertToInteractive(key) {\n",
              "        const element = document.querySelector('#df-f6f91202-7c8e-4bd9-a21f-bb81e9be8b84');\n",
              "        const dataTable =\n",
              "          await google.colab.kernel.invokeFunction('convertToInteractive',\n",
              "                                                    [key], {});\n",
              "        if (!dataTable) return;\n",
              "\n",
              "        const docLinkHtml = 'Like what you see? Visit the ' +\n",
              "          '<a target=\"_blank\" href=https://colab.research.google.com/notebooks/data_table.ipynb>data table notebook</a>'\n",
              "          + ' to learn more about interactive tables.';\n",
              "        element.innerHTML = '';\n",
              "        dataTable['output_type'] = 'display_data';\n",
              "        await google.colab.output.renderOutput(dataTable, element);\n",
              "        const docLink = document.createElement('div');\n",
              "        docLink.innerHTML = docLinkHtml;\n",
              "        element.appendChild(docLink);\n",
              "      }\n",
              "    </script>\n",
              "  </div>\n",
              "\n",
              "\n",
              "<div id=\"df-62030252-ec1e-4a0e-83da-df9fe2c385a3\">\n",
              "  <button class=\"colab-df-quickchart\" onclick=\"quickchart('df-62030252-ec1e-4a0e-83da-df9fe2c385a3')\"\n",
              "            title=\"Suggest charts\"\n",
              "            style=\"display:none;\">\n",
              "\n",
              "<svg xmlns=\"http://www.w3.org/2000/svg\" height=\"24px\"viewBox=\"0 0 24 24\"\n",
              "     width=\"24px\">\n",
              "    <g>\n",
              "        <path d=\"M19 3H5c-1.1 0-2 .9-2 2v14c0 1.1.9 2 2 2h14c1.1 0 2-.9 2-2V5c0-1.1-.9-2-2-2zM9 17H7v-7h2v7zm4 0h-2V7h2v10zm4 0h-2v-4h2v4z\"/>\n",
              "    </g>\n",
              "</svg>\n",
              "  </button>\n",
              "\n",
              "<style>\n",
              "  .colab-df-quickchart {\n",
              "      --bg-color: #E8F0FE;\n",
              "      --fill-color: #1967D2;\n",
              "      --hover-bg-color: #E2EBFA;\n",
              "      --hover-fill-color: #174EA6;\n",
              "      --disabled-fill-color: #AAA;\n",
              "      --disabled-bg-color: #DDD;\n",
              "  }\n",
              "\n",
              "  [theme=dark] .colab-df-quickchart {\n",
              "      --bg-color: #3B4455;\n",
              "      --fill-color: #D2E3FC;\n",
              "      --hover-bg-color: #434B5C;\n",
              "      --hover-fill-color: #FFFFFF;\n",
              "      --disabled-bg-color: #3B4455;\n",
              "      --disabled-fill-color: #666;\n",
              "  }\n",
              "\n",
              "  .colab-df-quickchart {\n",
              "    background-color: var(--bg-color);\n",
              "    border: none;\n",
              "    border-radius: 50%;\n",
              "    cursor: pointer;\n",
              "    display: none;\n",
              "    fill: var(--fill-color);\n",
              "    height: 32px;\n",
              "    padding: 0;\n",
              "    width: 32px;\n",
              "  }\n",
              "\n",
              "  .colab-df-quickchart:hover {\n",
              "    background-color: var(--hover-bg-color);\n",
              "    box-shadow: 0 1px 2px rgba(60, 64, 67, 0.3), 0 1px 3px 1px rgba(60, 64, 67, 0.15);\n",
              "    fill: var(--button-hover-fill-color);\n",
              "  }\n",
              "\n",
              "  .colab-df-quickchart-complete:disabled,\n",
              "  .colab-df-quickchart-complete:disabled:hover {\n",
              "    background-color: var(--disabled-bg-color);\n",
              "    fill: var(--disabled-fill-color);\n",
              "    box-shadow: none;\n",
              "  }\n",
              "\n",
              "  .colab-df-spinner {\n",
              "    border: 2px solid var(--fill-color);\n",
              "    border-color: transparent;\n",
              "    border-bottom-color: var(--fill-color);\n",
              "    animation:\n",
              "      spin 1s steps(1) infinite;\n",
              "  }\n",
              "\n",
              "  @keyframes spin {\n",
              "    0% {\n",
              "      border-color: transparent;\n",
              "      border-bottom-color: var(--fill-color);\n",
              "      border-left-color: var(--fill-color);\n",
              "    }\n",
              "    20% {\n",
              "      border-color: transparent;\n",
              "      border-left-color: var(--fill-color);\n",
              "      border-top-color: var(--fill-color);\n",
              "    }\n",
              "    30% {\n",
              "      border-color: transparent;\n",
              "      border-left-color: var(--fill-color);\n",
              "      border-top-color: var(--fill-color);\n",
              "      border-right-color: var(--fill-color);\n",
              "    }\n",
              "    40% {\n",
              "      border-color: transparent;\n",
              "      border-right-color: var(--fill-color);\n",
              "      border-top-color: var(--fill-color);\n",
              "    }\n",
              "    60% {\n",
              "      border-color: transparent;\n",
              "      border-right-color: var(--fill-color);\n",
              "    }\n",
              "    80% {\n",
              "      border-color: transparent;\n",
              "      border-right-color: var(--fill-color);\n",
              "      border-bottom-color: var(--fill-color);\n",
              "    }\n",
              "    90% {\n",
              "      border-color: transparent;\n",
              "      border-bottom-color: var(--fill-color);\n",
              "    }\n",
              "  }\n",
              "</style>\n",
              "\n",
              "  <script>\n",
              "    async function quickchart(key) {\n",
              "      const quickchartButtonEl =\n",
              "        document.querySelector('#' + key + ' button');\n",
              "      quickchartButtonEl.disabled = true;  // To prevent multiple clicks.\n",
              "      quickchartButtonEl.classList.add('colab-df-spinner');\n",
              "      try {\n",
              "        const charts = await google.colab.kernel.invokeFunction(\n",
              "            'suggestCharts', [key], {});\n",
              "      } catch (error) {\n",
              "        console.error('Error during call to suggestCharts:', error);\n",
              "      }\n",
              "      quickchartButtonEl.classList.remove('colab-df-spinner');\n",
              "      quickchartButtonEl.classList.add('colab-df-quickchart-complete');\n",
              "    }\n",
              "    (() => {\n",
              "      let quickchartButtonEl =\n",
              "        document.querySelector('#df-62030252-ec1e-4a0e-83da-df9fe2c385a3 button');\n",
              "      quickchartButtonEl.style.display =\n",
              "        google.colab.kernel.accessAllowed ? 'block' : 'none';\n",
              "    })();\n",
              "  </script>\n",
              "</div>\n",
              "\n",
              "    </div>\n",
              "  </div>\n"
            ],
            "application/vnd.google.colaboratory.intrinsic+json": {
              "type": "dataframe",
              "summary": "{\n  \"name\": \"desktop\",\n  \"rows\": 8,\n  \"fields\": [\n    {\n      \"column\": \"userid\",\n      \"properties\": {\n        \"dtype\": \"number\",\n        \"std\": 10.50923193300601,\n        \"min\": 1.0,\n        \"max\": 30.0,\n        \"num_unique_values\": 6,\n        \"samples\": [\n          30.0,\n          15.5,\n          22.75\n        ],\n        \"semantic_type\": \"\",\n        \"description\": \"\"\n      }\n    },\n    {\n      \"column\": \"spending\",\n      \"properties\": {\n        \"dtype\": \"number\",\n        \"std\": 1118.4089716781543,\n        \"min\": 0.0,\n        \"max\": 3400.0,\n        \"num_unique_values\": 8,\n        \"samples\": [\n          1028.6666666666667,\n          925.0,\n          30.0\n        ],\n        \"semantic_type\": \"\",\n        \"description\": \"\"\n      }\n    },\n    {\n      \"column\": \"age\",\n      \"properties\": {\n        \"dtype\": \"number\",\n        \"std\": 20.623085480130833,\n        \"min\": 14.0,\n        \"max\": 79.0,\n        \"num_unique_values\": 8,\n        \"samples\": [\n          35.766666666666666,\n          32.0,\n          30.0\n        ],\n        \"semantic_type\": \"\",\n        \"description\": \"\"\n      }\n    },\n    {\n      \"column\": \"visits\",\n      \"properties\": {\n        \"dtype\": \"number\",\n        \"std\": 413.9069839596893,\n        \"min\": 5.0,\n        \"max\": 1256.0,\n        \"num_unique_values\": 8,\n        \"samples\": [\n          210.8,\n          100.0,\n          30.0\n        ],\n        \"semantic_type\": \"\",\n        \"description\": \"\"\n      }\n    }\n  ]\n}"
            }
          },
          "metadata": {},
          "execution_count": 34
        }
      ]
    },
    {
      "cell_type": "code",
      "source": [
        "laptop.describe()"
      ],
      "metadata": {
        "colab": {
          "base_uri": "https://localhost:8080/",
          "height": 300
        },
        "id": "aOLZlWXFbDDv",
        "outputId": "cf76e0f6-0142-4123-ba39-80f7c0bacbd0"
      },
      "execution_count": null,
      "outputs": [
        {
          "output_type": "execute_result",
          "data": {
            "text/plain": [
              "          userid     spending        age       visits\n",
              "count  30.000000    30.000000  30.000000    30.000000\n",
              "mean   45.500000  1624.566667  38.733333   193.900000\n",
              "std     8.803408  1252.884222  17.104009   323.071611\n",
              "min    31.000000     0.000000  16.000000     6.000000\n",
              "25%    38.250000   957.500000  25.000000    39.250000\n",
              "50%    45.500000  1419.500000  33.000000    77.500000\n",
              "75%    52.750000  2199.750000  49.750000   126.000000\n",
              "max    60.000000  4600.000000  79.000000  1250.000000"
            ],
            "text/html": [
              "\n",
              "  <div id=\"df-ac1174d3-7502-424a-afca-51ad0b510f08\" class=\"colab-df-container\">\n",
              "    <div>\n",
              "<style scoped>\n",
              "    .dataframe tbody tr th:only-of-type {\n",
              "        vertical-align: middle;\n",
              "    }\n",
              "\n",
              "    .dataframe tbody tr th {\n",
              "        vertical-align: top;\n",
              "    }\n",
              "\n",
              "    .dataframe thead th {\n",
              "        text-align: right;\n",
              "    }\n",
              "</style>\n",
              "<table border=\"1\" class=\"dataframe\">\n",
              "  <thead>\n",
              "    <tr style=\"text-align: right;\">\n",
              "      <th></th>\n",
              "      <th>userid</th>\n",
              "      <th>spending</th>\n",
              "      <th>age</th>\n",
              "      <th>visits</th>\n",
              "    </tr>\n",
              "  </thead>\n",
              "  <tbody>\n",
              "    <tr>\n",
              "      <th>count</th>\n",
              "      <td>30.000000</td>\n",
              "      <td>30.000000</td>\n",
              "      <td>30.000000</td>\n",
              "      <td>30.000000</td>\n",
              "    </tr>\n",
              "    <tr>\n",
              "      <th>mean</th>\n",
              "      <td>45.500000</td>\n",
              "      <td>1624.566667</td>\n",
              "      <td>38.733333</td>\n",
              "      <td>193.900000</td>\n",
              "    </tr>\n",
              "    <tr>\n",
              "      <th>std</th>\n",
              "      <td>8.803408</td>\n",
              "      <td>1252.884222</td>\n",
              "      <td>17.104009</td>\n",
              "      <td>323.071611</td>\n",
              "    </tr>\n",
              "    <tr>\n",
              "      <th>min</th>\n",
              "      <td>31.000000</td>\n",
              "      <td>0.000000</td>\n",
              "      <td>16.000000</td>\n",
              "      <td>6.000000</td>\n",
              "    </tr>\n",
              "    <tr>\n",
              "      <th>25%</th>\n",
              "      <td>38.250000</td>\n",
              "      <td>957.500000</td>\n",
              "      <td>25.000000</td>\n",
              "      <td>39.250000</td>\n",
              "    </tr>\n",
              "    <tr>\n",
              "      <th>50%</th>\n",
              "      <td>45.500000</td>\n",
              "      <td>1419.500000</td>\n",
              "      <td>33.000000</td>\n",
              "      <td>77.500000</td>\n",
              "    </tr>\n",
              "    <tr>\n",
              "      <th>75%</th>\n",
              "      <td>52.750000</td>\n",
              "      <td>2199.750000</td>\n",
              "      <td>49.750000</td>\n",
              "      <td>126.000000</td>\n",
              "    </tr>\n",
              "    <tr>\n",
              "      <th>max</th>\n",
              "      <td>60.000000</td>\n",
              "      <td>4600.000000</td>\n",
              "      <td>79.000000</td>\n",
              "      <td>1250.000000</td>\n",
              "    </tr>\n",
              "  </tbody>\n",
              "</table>\n",
              "</div>\n",
              "    <div class=\"colab-df-buttons\">\n",
              "\n",
              "  <div class=\"colab-df-container\">\n",
              "    <button class=\"colab-df-convert\" onclick=\"convertToInteractive('df-ac1174d3-7502-424a-afca-51ad0b510f08')\"\n",
              "            title=\"Convert this dataframe to an interactive table.\"\n",
              "            style=\"display:none;\">\n",
              "\n",
              "  <svg xmlns=\"http://www.w3.org/2000/svg\" height=\"24px\" viewBox=\"0 -960 960 960\">\n",
              "    <path d=\"M120-120v-720h720v720H120Zm60-500h600v-160H180v160Zm220 220h160v-160H400v160Zm0 220h160v-160H400v160ZM180-400h160v-160H180v160Zm440 0h160v-160H620v160ZM180-180h160v-160H180v160Zm440 0h160v-160H620v160Z\"/>\n",
              "  </svg>\n",
              "    </button>\n",
              "\n",
              "  <style>\n",
              "    .colab-df-container {\n",
              "      display:flex;\n",
              "      gap: 12px;\n",
              "    }\n",
              "\n",
              "    .colab-df-convert {\n",
              "      background-color: #E8F0FE;\n",
              "      border: none;\n",
              "      border-radius: 50%;\n",
              "      cursor: pointer;\n",
              "      display: none;\n",
              "      fill: #1967D2;\n",
              "      height: 32px;\n",
              "      padding: 0 0 0 0;\n",
              "      width: 32px;\n",
              "    }\n",
              "\n",
              "    .colab-df-convert:hover {\n",
              "      background-color: #E2EBFA;\n",
              "      box-shadow: 0px 1px 2px rgba(60, 64, 67, 0.3), 0px 1px 3px 1px rgba(60, 64, 67, 0.15);\n",
              "      fill: #174EA6;\n",
              "    }\n",
              "\n",
              "    .colab-df-buttons div {\n",
              "      margin-bottom: 4px;\n",
              "    }\n",
              "\n",
              "    [theme=dark] .colab-df-convert {\n",
              "      background-color: #3B4455;\n",
              "      fill: #D2E3FC;\n",
              "    }\n",
              "\n",
              "    [theme=dark] .colab-df-convert:hover {\n",
              "      background-color: #434B5C;\n",
              "      box-shadow: 0px 1px 3px 1px rgba(0, 0, 0, 0.15);\n",
              "      filter: drop-shadow(0px 1px 2px rgba(0, 0, 0, 0.3));\n",
              "      fill: #FFFFFF;\n",
              "    }\n",
              "  </style>\n",
              "\n",
              "    <script>\n",
              "      const buttonEl =\n",
              "        document.querySelector('#df-ac1174d3-7502-424a-afca-51ad0b510f08 button.colab-df-convert');\n",
              "      buttonEl.style.display =\n",
              "        google.colab.kernel.accessAllowed ? 'block' : 'none';\n",
              "\n",
              "      async function convertToInteractive(key) {\n",
              "        const element = document.querySelector('#df-ac1174d3-7502-424a-afca-51ad0b510f08');\n",
              "        const dataTable =\n",
              "          await google.colab.kernel.invokeFunction('convertToInteractive',\n",
              "                                                    [key], {});\n",
              "        if (!dataTable) return;\n",
              "\n",
              "        const docLinkHtml = 'Like what you see? Visit the ' +\n",
              "          '<a target=\"_blank\" href=https://colab.research.google.com/notebooks/data_table.ipynb>data table notebook</a>'\n",
              "          + ' to learn more about interactive tables.';\n",
              "        element.innerHTML = '';\n",
              "        dataTable['output_type'] = 'display_data';\n",
              "        await google.colab.output.renderOutput(dataTable, element);\n",
              "        const docLink = document.createElement('div');\n",
              "        docLink.innerHTML = docLinkHtml;\n",
              "        element.appendChild(docLink);\n",
              "      }\n",
              "    </script>\n",
              "  </div>\n",
              "\n",
              "\n",
              "<div id=\"df-98890c24-484a-40d2-8738-7bfdc0290bc0\">\n",
              "  <button class=\"colab-df-quickchart\" onclick=\"quickchart('df-98890c24-484a-40d2-8738-7bfdc0290bc0')\"\n",
              "            title=\"Suggest charts\"\n",
              "            style=\"display:none;\">\n",
              "\n",
              "<svg xmlns=\"http://www.w3.org/2000/svg\" height=\"24px\"viewBox=\"0 0 24 24\"\n",
              "     width=\"24px\">\n",
              "    <g>\n",
              "        <path d=\"M19 3H5c-1.1 0-2 .9-2 2v14c0 1.1.9 2 2 2h14c1.1 0 2-.9 2-2V5c0-1.1-.9-2-2-2zM9 17H7v-7h2v7zm4 0h-2V7h2v10zm4 0h-2v-4h2v4z\"/>\n",
              "    </g>\n",
              "</svg>\n",
              "  </button>\n",
              "\n",
              "<style>\n",
              "  .colab-df-quickchart {\n",
              "      --bg-color: #E8F0FE;\n",
              "      --fill-color: #1967D2;\n",
              "      --hover-bg-color: #E2EBFA;\n",
              "      --hover-fill-color: #174EA6;\n",
              "      --disabled-fill-color: #AAA;\n",
              "      --disabled-bg-color: #DDD;\n",
              "  }\n",
              "\n",
              "  [theme=dark] .colab-df-quickchart {\n",
              "      --bg-color: #3B4455;\n",
              "      --fill-color: #D2E3FC;\n",
              "      --hover-bg-color: #434B5C;\n",
              "      --hover-fill-color: #FFFFFF;\n",
              "      --disabled-bg-color: #3B4455;\n",
              "      --disabled-fill-color: #666;\n",
              "  }\n",
              "\n",
              "  .colab-df-quickchart {\n",
              "    background-color: var(--bg-color);\n",
              "    border: none;\n",
              "    border-radius: 50%;\n",
              "    cursor: pointer;\n",
              "    display: none;\n",
              "    fill: var(--fill-color);\n",
              "    height: 32px;\n",
              "    padding: 0;\n",
              "    width: 32px;\n",
              "  }\n",
              "\n",
              "  .colab-df-quickchart:hover {\n",
              "    background-color: var(--hover-bg-color);\n",
              "    box-shadow: 0 1px 2px rgba(60, 64, 67, 0.3), 0 1px 3px 1px rgba(60, 64, 67, 0.15);\n",
              "    fill: var(--button-hover-fill-color);\n",
              "  }\n",
              "\n",
              "  .colab-df-quickchart-complete:disabled,\n",
              "  .colab-df-quickchart-complete:disabled:hover {\n",
              "    background-color: var(--disabled-bg-color);\n",
              "    fill: var(--disabled-fill-color);\n",
              "    box-shadow: none;\n",
              "  }\n",
              "\n",
              "  .colab-df-spinner {\n",
              "    border: 2px solid var(--fill-color);\n",
              "    border-color: transparent;\n",
              "    border-bottom-color: var(--fill-color);\n",
              "    animation:\n",
              "      spin 1s steps(1) infinite;\n",
              "  }\n",
              "\n",
              "  @keyframes spin {\n",
              "    0% {\n",
              "      border-color: transparent;\n",
              "      border-bottom-color: var(--fill-color);\n",
              "      border-left-color: var(--fill-color);\n",
              "    }\n",
              "    20% {\n",
              "      border-color: transparent;\n",
              "      border-left-color: var(--fill-color);\n",
              "      border-top-color: var(--fill-color);\n",
              "    }\n",
              "    30% {\n",
              "      border-color: transparent;\n",
              "      border-left-color: var(--fill-color);\n",
              "      border-top-color: var(--fill-color);\n",
              "      border-right-color: var(--fill-color);\n",
              "    }\n",
              "    40% {\n",
              "      border-color: transparent;\n",
              "      border-right-color: var(--fill-color);\n",
              "      border-top-color: var(--fill-color);\n",
              "    }\n",
              "    60% {\n",
              "      border-color: transparent;\n",
              "      border-right-color: var(--fill-color);\n",
              "    }\n",
              "    80% {\n",
              "      border-color: transparent;\n",
              "      border-right-color: var(--fill-color);\n",
              "      border-bottom-color: var(--fill-color);\n",
              "    }\n",
              "    90% {\n",
              "      border-color: transparent;\n",
              "      border-bottom-color: var(--fill-color);\n",
              "    }\n",
              "  }\n",
              "</style>\n",
              "\n",
              "  <script>\n",
              "    async function quickchart(key) {\n",
              "      const quickchartButtonEl =\n",
              "        document.querySelector('#' + key + ' button');\n",
              "      quickchartButtonEl.disabled = true;  // To prevent multiple clicks.\n",
              "      quickchartButtonEl.classList.add('colab-df-spinner');\n",
              "      try {\n",
              "        const charts = await google.colab.kernel.invokeFunction(\n",
              "            'suggestCharts', [key], {});\n",
              "      } catch (error) {\n",
              "        console.error('Error during call to suggestCharts:', error);\n",
              "      }\n",
              "      quickchartButtonEl.classList.remove('colab-df-spinner');\n",
              "      quickchartButtonEl.classList.add('colab-df-quickchart-complete');\n",
              "    }\n",
              "    (() => {\n",
              "      let quickchartButtonEl =\n",
              "        document.querySelector('#df-98890c24-484a-40d2-8738-7bfdc0290bc0 button');\n",
              "      quickchartButtonEl.style.display =\n",
              "        google.colab.kernel.accessAllowed ? 'block' : 'none';\n",
              "    })();\n",
              "  </script>\n",
              "</div>\n",
              "\n",
              "    </div>\n",
              "  </div>\n"
            ],
            "application/vnd.google.colaboratory.intrinsic+json": {
              "type": "dataframe",
              "summary": "{\n  \"name\": \"laptop\",\n  \"rows\": 8,\n  \"fields\": [\n    {\n      \"column\": \"userid\",\n      \"properties\": {\n        \"dtype\": \"number\",\n        \"std\": 15.910258646387623,\n        \"min\": 8.803408430829505,\n        \"max\": 60.0,\n        \"num_unique_values\": 7,\n        \"samples\": [\n          30.0,\n          45.5,\n          52.75\n        ],\n        \"semantic_type\": \"\",\n        \"description\": \"\"\n      }\n    },\n    {\n      \"column\": \"spending\",\n      \"properties\": {\n        \"dtype\": \"number\",\n        \"std\": 1458.327486284679,\n        \"min\": 0.0,\n        \"max\": 4600.0,\n        \"num_unique_values\": 8,\n        \"samples\": [\n          1624.5666666666666,\n          1419.5,\n          30.0\n        ],\n        \"semantic_type\": \"\",\n        \"description\": \"\"\n      }\n    },\n    {\n      \"column\": \"age\",\n      \"properties\": {\n        \"dtype\": \"number\",\n        \"std\": 20.593164478818537,\n        \"min\": 16.0,\n        \"max\": 79.0,\n        \"num_unique_values\": 8,\n        \"samples\": [\n          38.733333333333334,\n          33.0,\n          30.0\n        ],\n        \"semantic_type\": \"\",\n        \"description\": \"\"\n      }\n    },\n    {\n      \"column\": \"visits\",\n      \"properties\": {\n        \"dtype\": \"number\",\n        \"std\": 415.0230930845058,\n        \"min\": 6.0,\n        \"max\": 1250.0,\n        \"num_unique_values\": 8,\n        \"samples\": [\n          193.9,\n          77.5,\n          30.0\n        ],\n        \"semantic_type\": \"\",\n        \"description\": \"\"\n      }\n    }\n  ]\n}"
            }
          },
          "metadata": {},
          "execution_count": 35
        }
      ]
    },
    {
      "cell_type": "markdown",
      "source": [
        "The results reveal that the mean desktop subscriber is about 35.8\n",
        "years old, and the mean laptop subscriber is about 38.7 years old. We can\n",
        "conclude that these groups are different, in the sense that they’re not identical.\n",
        "\n",
        "But it’s not clear whether the groups are different enough that we should tell our marketing group to create two separate emails instead of one. To make that\n",
        "judgment, we need to use our hypothesis-testing framework"
      ],
      "metadata": {
        "id": "4qNkO2xtRfBJ"
      }
    },
    {
      "cell_type": "markdown",
      "source": [
        "**Hypothesis 0** The two email lists are random samples from the same population\n",
        "\n",
        "**Hypothesis 1** The two email lists are not random samples from the same population"
      ],
      "metadata": {
        "id": "rrgNtWOjRn-c"
      }
    },
    {
      "cell_type": "markdown",
      "source": [
        "Hypothesis 0, our null hypothesis, is describing a world in which there’s a\n",
        "population of people who are interested in computers, both laptops and desktops.\n",
        "\n",
        "People from this population sign up for your company’s email lists occasionally.\n",
        "But when they sign up for a list, they choose completely at random which of\n",
        "your two lists they sign up for. In this world, your lists have superficial\n",
        "differences, but they are truly two random samples from the same population and\n",
        "don’t differ in any essential ways that would warrant different treatment by your company.\n",
        "\n",
        "Hypothesis 1, the alternative hypothesis, describes a world in which the null\n",
        "hypothesis is not true. This would mean that your subscribers’ membership on\n",
        "different email lists is the result at least partially of underlying differences in people who like desktops and people who like laptops.\n",
        "\n",
        "If Hypothesis 0 is true, it would be reasonable to send the same marketing email to both groups. If Hypothesis 1 is true, sending different marketing emails to each group makes more sense.\n",
        "\n",
        "A business decision now depends on the result of a statistical test.\n",
        "Let’s run our t-test and see whether our two subscriber groups actually differ\n",
        "from each other. First, we should specify a significance level. Let’s use the 5\n",
        "percent significance level that’s common in research.\n"
      ],
      "metadata": {
        "id": "w0YSfr_TSM7x"
      }
    },
    {
      "cell_type": "code",
      "source": [
        "scipy.stats.ttest_ind(desktop['spending'], laptop['spending'])"
      ],
      "metadata": {
        "colab": {
          "base_uri": "https://localhost:8080/"
        },
        "id": "k60v94TcSs7j",
        "outputId": "8a7c8e5f-357c-4742-8f93-7107838d9327"
      },
      "execution_count": null,
      "outputs": [
        {
          "output_type": "execute_result",
          "data": {
            "text/plain": [
              "TtestResult(statistic=-2.109853741030508, pvalue=0.03919630411621095, df=58.0)"
            ]
          },
          "metadata": {},
          "execution_count": 36
        }
      ]
    },
    {
      "cell_type": "markdown",
      "source": [
        "When you look at the results from our t-test, you can see that our p-value is\n",
        "about 0.04. Since we use the common 5 percent significance level, this p-value is low enough for us to conclude that the desktop and laptop groups are not random draws from the same population, so we can reject the null hypothesis. It appears that desktop and laptop email subscribers are at least slightly different in a detectable way.\n"
      ],
      "metadata": {
        "id": "YDLQoV1WTpF8"
      }
    },
    {
      "cell_type": "markdown",
      "source": [
        "## Running experiments to test new hypotheses\n",
        "\n",
        "Suppose we’re interested in studying whether changing the color of text in our\n",
        "marketing emails from black to blue will increase the revenue we earn as a result of the emails."
      ],
      "metadata": {
        "id": "rKvZ0rRN5K6t"
      }
    },
    {
      "cell_type": "markdown",
      "source": [
        "**Hypothesis 0** Changing the color of text in our emails from black to blue will\n",
        "have no effect on revenues.\n",
        "\n",
        "**Hypothesis 1** Changing the color of text in our emails from black to blue will lead to a change in revenues (either an increase or a decrease)."
      ],
      "metadata": {
        "id": "XAWnTWsw6UNa"
      }
    },
    {
      "cell_type": "markdown",
      "source": [
        "To do the hypothesis test we just outlined, we’ll\n",
        "need data from two groups: a group that has received a blue-text email and a\n",
        "group that has received a black-text email. We’ll need to know how much\n",
        "revenue we received from each member of the group that received the blue-text\n",
        "email and how much revenue we received from each member of the group that\n",
        "received the black-text email."
      ],
      "metadata": {
        "id": "Jh6oupah6nGW"
      }
    },
    {
      "cell_type": "markdown",
      "source": [
        "## Splitting groups based on age\n"
      ],
      "metadata": {
        "id": "OOxkSl-U62zn"
      }
    },
    {
      "cell_type": "code",
      "source": [
        "medianage = np.median(desktop['age'])\n",
        "groupa = desktop.loc[desktop['age'] <= medianage,:]\n",
        "groupb = desktop.loc[desktop['age'] > medianage,:]"
      ],
      "metadata": {
        "id": "AqJswwAT9LjU"
      },
      "execution_count": null,
      "outputs": []
    },
    {
      "cell_type": "markdown",
      "source": [
        "After creating groupa and groupb, you can send these two dataframes to your\n",
        "marketing team members and instruct them to send different emails to each\n",
        "group. Suppose they send the black-text email to groupa and the blue-text email\n",
        "to groupb. In every email, they include links to new products they want to sell,\n",
        "and by tracking who clicks which links and their purchases, the team members\n",
        "can measure the total revenue earned from each individual email recipient."
      ],
      "metadata": {
        "id": "_cRTuZav4DGP"
      }
    },
    {
      "cell_type": "code",
      "source": [
        "emailresults1 = pd.read_csv('emailresults1.csv')\n",
        "emailresults1.head()"
      ],
      "metadata": {
        "colab": {
          "base_uri": "https://localhost:8080/",
          "height": 206
        },
        "id": "NiGRbh3Y4EQu",
        "outputId": "b4019da2-57bb-4cd6-f05f-c14550e8d0fe"
      },
      "execution_count": null,
      "outputs": [
        {
          "output_type": "execute_result",
          "data": {
            "text/plain": [
              "   userid  revenue\n",
              "0       1      100\n",
              "1       2        0\n",
              "2       3       50\n",
              "3       4      550\n",
              "4       5      175"
            ],
            "text/html": [
              "\n",
              "  <div id=\"df-d473f3e1-a85e-4a21-9925-768330d1b97b\" class=\"colab-df-container\">\n",
              "    <div>\n",
              "<style scoped>\n",
              "    .dataframe tbody tr th:only-of-type {\n",
              "        vertical-align: middle;\n",
              "    }\n",
              "\n",
              "    .dataframe tbody tr th {\n",
              "        vertical-align: top;\n",
              "    }\n",
              "\n",
              "    .dataframe thead th {\n",
              "        text-align: right;\n",
              "    }\n",
              "</style>\n",
              "<table border=\"1\" class=\"dataframe\">\n",
              "  <thead>\n",
              "    <tr style=\"text-align: right;\">\n",
              "      <th></th>\n",
              "      <th>userid</th>\n",
              "      <th>revenue</th>\n",
              "    </tr>\n",
              "  </thead>\n",
              "  <tbody>\n",
              "    <tr>\n",
              "      <th>0</th>\n",
              "      <td>1</td>\n",
              "      <td>100</td>\n",
              "    </tr>\n",
              "    <tr>\n",
              "      <th>1</th>\n",
              "      <td>2</td>\n",
              "      <td>0</td>\n",
              "    </tr>\n",
              "    <tr>\n",
              "      <th>2</th>\n",
              "      <td>3</td>\n",
              "      <td>50</td>\n",
              "    </tr>\n",
              "    <tr>\n",
              "      <th>3</th>\n",
              "      <td>4</td>\n",
              "      <td>550</td>\n",
              "    </tr>\n",
              "    <tr>\n",
              "      <th>4</th>\n",
              "      <td>5</td>\n",
              "      <td>175</td>\n",
              "    </tr>\n",
              "  </tbody>\n",
              "</table>\n",
              "</div>\n",
              "    <div class=\"colab-df-buttons\">\n",
              "\n",
              "  <div class=\"colab-df-container\">\n",
              "    <button class=\"colab-df-convert\" onclick=\"convertToInteractive('df-d473f3e1-a85e-4a21-9925-768330d1b97b')\"\n",
              "            title=\"Convert this dataframe to an interactive table.\"\n",
              "            style=\"display:none;\">\n",
              "\n",
              "  <svg xmlns=\"http://www.w3.org/2000/svg\" height=\"24px\" viewBox=\"0 -960 960 960\">\n",
              "    <path d=\"M120-120v-720h720v720H120Zm60-500h600v-160H180v160Zm220 220h160v-160H400v160Zm0 220h160v-160H400v160ZM180-400h160v-160H180v160Zm440 0h160v-160H620v160ZM180-180h160v-160H180v160Zm440 0h160v-160H620v160Z\"/>\n",
              "  </svg>\n",
              "    </button>\n",
              "\n",
              "  <style>\n",
              "    .colab-df-container {\n",
              "      display:flex;\n",
              "      gap: 12px;\n",
              "    }\n",
              "\n",
              "    .colab-df-convert {\n",
              "      background-color: #E8F0FE;\n",
              "      border: none;\n",
              "      border-radius: 50%;\n",
              "      cursor: pointer;\n",
              "      display: none;\n",
              "      fill: #1967D2;\n",
              "      height: 32px;\n",
              "      padding: 0 0 0 0;\n",
              "      width: 32px;\n",
              "    }\n",
              "\n",
              "    .colab-df-convert:hover {\n",
              "      background-color: #E2EBFA;\n",
              "      box-shadow: 0px 1px 2px rgba(60, 64, 67, 0.3), 0px 1px 3px 1px rgba(60, 64, 67, 0.15);\n",
              "      fill: #174EA6;\n",
              "    }\n",
              "\n",
              "    .colab-df-buttons div {\n",
              "      margin-bottom: 4px;\n",
              "    }\n",
              "\n",
              "    [theme=dark] .colab-df-convert {\n",
              "      background-color: #3B4455;\n",
              "      fill: #D2E3FC;\n",
              "    }\n",
              "\n",
              "    [theme=dark] .colab-df-convert:hover {\n",
              "      background-color: #434B5C;\n",
              "      box-shadow: 0px 1px 3px 1px rgba(0, 0, 0, 0.15);\n",
              "      filter: drop-shadow(0px 1px 2px rgba(0, 0, 0, 0.3));\n",
              "      fill: #FFFFFF;\n",
              "    }\n",
              "  </style>\n",
              "\n",
              "    <script>\n",
              "      const buttonEl =\n",
              "        document.querySelector('#df-d473f3e1-a85e-4a21-9925-768330d1b97b button.colab-df-convert');\n",
              "      buttonEl.style.display =\n",
              "        google.colab.kernel.accessAllowed ? 'block' : 'none';\n",
              "\n",
              "      async function convertToInteractive(key) {\n",
              "        const element = document.querySelector('#df-d473f3e1-a85e-4a21-9925-768330d1b97b');\n",
              "        const dataTable =\n",
              "          await google.colab.kernel.invokeFunction('convertToInteractive',\n",
              "                                                    [key], {});\n",
              "        if (!dataTable) return;\n",
              "\n",
              "        const docLinkHtml = 'Like what you see? Visit the ' +\n",
              "          '<a target=\"_blank\" href=https://colab.research.google.com/notebooks/data_table.ipynb>data table notebook</a>'\n",
              "          + ' to learn more about interactive tables.';\n",
              "        element.innerHTML = '';\n",
              "        dataTable['output_type'] = 'display_data';\n",
              "        await google.colab.output.renderOutput(dataTable, element);\n",
              "        const docLink = document.createElement('div');\n",
              "        docLink.innerHTML = docLinkHtml;\n",
              "        element.appendChild(docLink);\n",
              "      }\n",
              "    </script>\n",
              "  </div>\n",
              "\n",
              "\n",
              "<div id=\"df-dbde9821-31b1-4996-862a-80de8ba243c3\">\n",
              "  <button class=\"colab-df-quickchart\" onclick=\"quickchart('df-dbde9821-31b1-4996-862a-80de8ba243c3')\"\n",
              "            title=\"Suggest charts\"\n",
              "            style=\"display:none;\">\n",
              "\n",
              "<svg xmlns=\"http://www.w3.org/2000/svg\" height=\"24px\"viewBox=\"0 0 24 24\"\n",
              "     width=\"24px\">\n",
              "    <g>\n",
              "        <path d=\"M19 3H5c-1.1 0-2 .9-2 2v14c0 1.1.9 2 2 2h14c1.1 0 2-.9 2-2V5c0-1.1-.9-2-2-2zM9 17H7v-7h2v7zm4 0h-2V7h2v10zm4 0h-2v-4h2v4z\"/>\n",
              "    </g>\n",
              "</svg>\n",
              "  </button>\n",
              "\n",
              "<style>\n",
              "  .colab-df-quickchart {\n",
              "      --bg-color: #E8F0FE;\n",
              "      --fill-color: #1967D2;\n",
              "      --hover-bg-color: #E2EBFA;\n",
              "      --hover-fill-color: #174EA6;\n",
              "      --disabled-fill-color: #AAA;\n",
              "      --disabled-bg-color: #DDD;\n",
              "  }\n",
              "\n",
              "  [theme=dark] .colab-df-quickchart {\n",
              "      --bg-color: #3B4455;\n",
              "      --fill-color: #D2E3FC;\n",
              "      --hover-bg-color: #434B5C;\n",
              "      --hover-fill-color: #FFFFFF;\n",
              "      --disabled-bg-color: #3B4455;\n",
              "      --disabled-fill-color: #666;\n",
              "  }\n",
              "\n",
              "  .colab-df-quickchart {\n",
              "    background-color: var(--bg-color);\n",
              "    border: none;\n",
              "    border-radius: 50%;\n",
              "    cursor: pointer;\n",
              "    display: none;\n",
              "    fill: var(--fill-color);\n",
              "    height: 32px;\n",
              "    padding: 0;\n",
              "    width: 32px;\n",
              "  }\n",
              "\n",
              "  .colab-df-quickchart:hover {\n",
              "    background-color: var(--hover-bg-color);\n",
              "    box-shadow: 0 1px 2px rgba(60, 64, 67, 0.3), 0 1px 3px 1px rgba(60, 64, 67, 0.15);\n",
              "    fill: var(--button-hover-fill-color);\n",
              "  }\n",
              "\n",
              "  .colab-df-quickchart-complete:disabled,\n",
              "  .colab-df-quickchart-complete:disabled:hover {\n",
              "    background-color: var(--disabled-bg-color);\n",
              "    fill: var(--disabled-fill-color);\n",
              "    box-shadow: none;\n",
              "  }\n",
              "\n",
              "  .colab-df-spinner {\n",
              "    border: 2px solid var(--fill-color);\n",
              "    border-color: transparent;\n",
              "    border-bottom-color: var(--fill-color);\n",
              "    animation:\n",
              "      spin 1s steps(1) infinite;\n",
              "  }\n",
              "\n",
              "  @keyframes spin {\n",
              "    0% {\n",
              "      border-color: transparent;\n",
              "      border-bottom-color: var(--fill-color);\n",
              "      border-left-color: var(--fill-color);\n",
              "    }\n",
              "    20% {\n",
              "      border-color: transparent;\n",
              "      border-left-color: var(--fill-color);\n",
              "      border-top-color: var(--fill-color);\n",
              "    }\n",
              "    30% {\n",
              "      border-color: transparent;\n",
              "      border-left-color: var(--fill-color);\n",
              "      border-top-color: var(--fill-color);\n",
              "      border-right-color: var(--fill-color);\n",
              "    }\n",
              "    40% {\n",
              "      border-color: transparent;\n",
              "      border-right-color: var(--fill-color);\n",
              "      border-top-color: var(--fill-color);\n",
              "    }\n",
              "    60% {\n",
              "      border-color: transparent;\n",
              "      border-right-color: var(--fill-color);\n",
              "    }\n",
              "    80% {\n",
              "      border-color: transparent;\n",
              "      border-right-color: var(--fill-color);\n",
              "      border-bottom-color: var(--fill-color);\n",
              "    }\n",
              "    90% {\n",
              "      border-color: transparent;\n",
              "      border-bottom-color: var(--fill-color);\n",
              "    }\n",
              "  }\n",
              "</style>\n",
              "\n",
              "  <script>\n",
              "    async function quickchart(key) {\n",
              "      const quickchartButtonEl =\n",
              "        document.querySelector('#' + key + ' button');\n",
              "      quickchartButtonEl.disabled = true;  // To prevent multiple clicks.\n",
              "      quickchartButtonEl.classList.add('colab-df-spinner');\n",
              "      try {\n",
              "        const charts = await google.colab.kernel.invokeFunction(\n",
              "            'suggestCharts', [key], {});\n",
              "      } catch (error) {\n",
              "        console.error('Error during call to suggestCharts:', error);\n",
              "      }\n",
              "      quickchartButtonEl.classList.remove('colab-df-spinner');\n",
              "      quickchartButtonEl.classList.add('colab-df-quickchart-complete');\n",
              "    }\n",
              "    (() => {\n",
              "      let quickchartButtonEl =\n",
              "        document.querySelector('#df-dbde9821-31b1-4996-862a-80de8ba243c3 button');\n",
              "      quickchartButtonEl.style.display =\n",
              "        google.colab.kernel.accessAllowed ? 'block' : 'none';\n",
              "    })();\n",
              "  </script>\n",
              "</div>\n",
              "\n",
              "    </div>\n",
              "  </div>\n"
            ],
            "application/vnd.google.colaboratory.intrinsic+json": {
              "type": "dataframe",
              "variable_name": "emailresults1",
              "summary": "{\n  \"name\": \"emailresults1\",\n  \"rows\": 30,\n  \"fields\": [\n    {\n      \"column\": \"userid\",\n      \"properties\": {\n        \"dtype\": \"number\",\n        \"std\": 8,\n        \"min\": 1,\n        \"max\": 30,\n        \"num_unique_values\": 30,\n        \"samples\": [\n          28,\n          16,\n          24\n        ],\n        \"semantic_type\": \"\",\n        \"description\": \"\"\n      }\n    },\n    {\n      \"column\": \"revenue\",\n      \"properties\": {\n        \"dtype\": \"number\",\n        \"std\": 166,\n        \"min\": 0,\n        \"max\": 600,\n        \"num_unique_values\": 18,\n        \"samples\": [\n          100,\n          0,\n          200\n        ],\n        \"semantic_type\": \"\",\n        \"description\": \"\"\n      }\n    }\n  ]\n}"
            }
          },
          "metadata": {},
          "execution_count": 38
        }
      ]
    },
    {
      "cell_type": "markdown",
      "source": [
        "It will be useful to have this new revenue information in the same dataframe\n",
        "as our other information about each user. Let’s join the datasets:\n"
      ],
      "metadata": {
        "id": "s0VjxGQA4pHu"
      }
    },
    {
      "cell_type": "code",
      "source": [
        "groupa_withrevenue = groupa.merge(emailresults1, on='userid')\n",
        "groupb_withrevenue = groupb.merge(emailresults1, on='userid')"
      ],
      "metadata": {
        "id": "9IUkS9hd4oNa"
      },
      "execution_count": null,
      "outputs": []
    },
    {
      "cell_type": "markdown",
      "source": [
        "After preparing our data, it’s simple to perform a t-test to check whether our\n",
        "groups are different."
      ],
      "metadata": {
        "id": "fhk04lwm5hld"
      }
    },
    {
      "cell_type": "code",
      "source": [
        "scipy.stats.ttest_ind(groupa_withrevenue['revenue'], groupb_withrevenue['revenue'])"
      ],
      "metadata": {
        "id": "c9tjr_uO5i_a",
        "colab": {
          "base_uri": "https://localhost:8080/"
        },
        "outputId": "8eaa1480-ffe3-4e78-ef2f-5e80bd18315f"
      },
      "execution_count": null,
      "outputs": [
        {
          "output_type": "execute_result",
          "data": {
            "text/plain": [
              "TtestResult(statistic=-2.186454851070545, pvalue=0.03730073920038287, df=28.0)"
            ]
          },
          "metadata": {},
          "execution_count": 40
        }
      ]
    },
    {
      "cell_type": "markdown",
      "source": [
        "We can see that the result says that p = 0.037, approximately.\n",
        "Since p < 0.05, we can conclude that this is a statistically significant difference.\n",
        "We can check the size of the difference:\n"
      ],
      "metadata": {
        "id": "t4eO9ImIf3uZ"
      }
    },
    {
      "cell_type": "code",
      "source": [
        "print(np.mean(groupb_withrevenue['revenue'])-np.mean(groupa_withrevenue['revenue']))"
      ],
      "metadata": {
        "colab": {
          "base_uri": "https://localhost:8080/"
        },
        "id": "ZEuDdQhuf46T",
        "outputId": "8d7ad640-2154-41ac-fa45-c989020694b5"
      },
      "execution_count": null,
      "outputs": [
        {
          "output_type": "stream",
          "name": "stdout",
          "text": [
            "125.0\n"
          ]
        }
      ]
    },
    {
      "cell_type": "markdown",
      "source": [
        "The output is 125.0. The average groupb customer has outspent the average\n",
        "groupa customer by 125 dollars. This difference is statistically significant, so we reject Hypothesis 0 in favor of Hypothesis 1, concluding (for now, at least) that the\n",
        "blue text in marketing emails leads to about $125 more in revenue per user than\n",
        "black text.\n"
      ],
      "metadata": {
        "id": "wb5wOyoMgUjN"
      }
    },
    {
      "cell_type": "markdown",
      "source": [
        "What we have just done was an experiment. We split a population into two\n",
        "groups, performed different actions on each group, and compared the results. In\n",
        "the context of business, such an experiment is often called an A/B test. The A/B\n",
        "part of the name refers to the two groups, Group A and Group B, whose different\n",
        "responses to emails we compared. Every A/B test follows the same pattern we\n",
        "went through here: a split into two groups, application of a different treatment\n",
        "(for example, sending different emails) to each group, and statistical analysis to\n",
        "compare the groups’ outcomes and draw conclusions about which treatment is\n",
        "better.\n"
      ],
      "metadata": {
        "id": "iLaQ6JOggpmM"
      }
    },
    {
      "cell_type": "markdown",
      "source": [
        "Now that we’ve successfully conducted an A/B test, we may want to conclude\n",
        "that the effect of blue text is to increase spending by $125. However, something\n",
        "is wrong with the A/B test we ran: it’s confounded."
      ],
      "metadata": {
        "id": "RsC9nyVEhHMQ"
      }
    },
    {
      "cell_type": "markdown",
      "source": [
        "## Avoiding Confounded Experimental Design"
      ],
      "metadata": {
        "id": "U4E8k7kMh4A_"
      }
    },
    {
      "cell_type": "markdown",
      "source": [
        "Let’s perform an A/B test on our laptop subscriber list, but this time we’ll use\n",
        "randomization to select our groups to avoid having a confounded experimental\n",
        "design. Suppose that in this new A/B test, we want to test whether adding a\n",
        "picture to a marketing email will improve revenue. We can proceed just as we\n",
        "did before: we split the laptop subscriber list into two subgroups, and we send\n",
        "different emails to each subgroup. The difference is that this time, instead of\n",
        "splitting based on age, we perform a random split:"
      ],
      "metadata": {
        "id": "JeTtonChiFat"
      }
    },
    {
      "cell_type": "code",
      "source": [
        "np.random.seed(18811015)\n",
        "\n",
        "laptop.loc[:,'groupassignment1'] = (np.random.random(len(laptop.index))>0.5)\n",
        "\n",
        "groupc = laptop.loc[laptop['groupassignment1']==0, :].copy()\n",
        "groupd = laptop.loc[laptop['groupassignment1']==1, :].copy()"
      ],
      "metadata": {
        "id": "MyMY3o4siHZI"
      },
      "execution_count": null,
      "outputs": []
    },
    {
      "cell_type": "markdown",
      "source": [
        "In this snippet, we use the NumPy random.random() method to generate a\n",
        "column that consists of randomly generated 0s and 1s. We can interpret a 0 to\n",
        "mean that a user belongs to Group C, and a 1 to mean that a user belongs to\n",
        "group D. When we generate 0s and 1s randomly like this, the groups could end\n",
        "up with different sizes."
      ],
      "metadata": {
        "id": "Qrpwy43VjDY3"
      }
    },
    {
      "cell_type": "markdown",
      "source": [
        "After generating this random column of 0s and 1s that indicates the group\n",
        "assignment of each customer, we create two smaller dataframes, groupc and\n",
        "groupd, that contain user IDs and information about the users in each subgroup.\n",
        "You can send the group membership information to your marketing team\n",
        "members and ask them to send the right emails to the right groups. One group,\n",
        "either C or D, should receive an email without a picture, and the other group,\n",
        "either D or C, should receive an email with a picture. Then, suppose that the\n",
        "marketing team sends you a file containing the results of this latest A/B test"
      ],
      "metadata": {
        "id": "1pzJdenljsqs"
      }
    },
    {
      "cell_type": "code",
      "source": [
        "emailresults2 = pd.read_csv('emailresults2.csv')"
      ],
      "metadata": {
        "id": "00bBgJebjuwh"
      },
      "execution_count": null,
      "outputs": []
    },
    {
      "cell_type": "markdown",
      "source": [
        "Join our email results to our group dataframes, just as we did before:"
      ],
      "metadata": {
        "id": "WZA7kI90j5XY"
      }
    },
    {
      "cell_type": "code",
      "source": [
        "groupc_withrevenue = groupc.merge(emailresults2, on='userid')\n",
        "groupd_withrevenue = groupd.merge(emailresults2, on='userid')"
      ],
      "metadata": {
        "id": "YuAmefTDj9ZI"
      },
      "execution_count": null,
      "outputs": []
    },
    {
      "cell_type": "code",
      "source": [
        "scipy.stats.ttest_ind(groupc_withrevenue['revenue'], groupd_withrevenue['revenue'])"
      ],
      "metadata": {
        "colab": {
          "base_uri": "https://localhost:8080/"
        },
        "id": "HHPl01HjkRRm",
        "outputId": "0701b488-5b6a-4012-bc45-08b83f7f7f06"
      },
      "execution_count": null,
      "outputs": [
        {
          "output_type": "execute_result",
          "data": {
            "text/plain": [
              "TtestResult(statistic=-2.381320497676198, pvalue=0.024288828555138562, df=28.0)"
            ]
          },
          "metadata": {},
          "execution_count": 45
        }
      ]
    },
    {
      "cell_type": "markdown",
      "source": [
        "We find that the p-value is less than 0.05, indicating that the difference\n",
        "between the groups is statistically significant. This time, our experiment isn’t\n",
        "confounded, because we used random assignment to ensure that the differences\n",
        "between groups are the result of our different emails, not the result of different\n",
        "characteristics of each group. Since our experiment isn’t confounded, and since\n",
        "we find a significant difference between the revenues earned from Group C and\n",
        "Group D, we conclude that including the picture in the email has a nonzero\n",
        "effect. If the marketing team tells us that it sent the picture only to Group D, we\n",
        "can find the estimated size of the effect easily:"
      ],
      "metadata": {
        "id": "psR8Ck84lk_t"
      }
    },
    {
      "cell_type": "code",
      "source": [
        "np.mean(groupd_withrevenue['revenue'])-np.mean(groupc_withrevenue['revenue'])"
      ],
      "metadata": {
        "colab": {
          "base_uri": "https://localhost:8080/"
        },
        "id": "kZ9Jiy1-korN",
        "outputId": "1bb5141b-c883-470a-f04b-7d76b8e1bdf5"
      },
      "execution_count": null,
      "outputs": [
        {
          "output_type": "execute_result",
          "data": {
            "text/plain": [
              "260.3333333333333"
            ]
          },
          "metadata": {},
          "execution_count": 46
        }
      ]
    },
    {
      "cell_type": "markdown",
      "source": [
        "## Optimizing with the Champion/Challenger Framework"
      ],
      "metadata": {
        "id": "TG2PZTz4w2f4"
      }
    },
    {
      "cell_type": "markdown",
      "source": [
        " - If the champion performs better than the challenger, the champion retains its champion status.\n",
        "\n",
        "- If the challenger performs better than the\n",
        "champion, that challenger becomes the new champion\n",
        "\n",
        "This process can continue indefinitely: we have a champion that represents the\n",
        "state of the art of whatever we’re doing (marketing emails, in this case). We\n",
        "constantly test the champion by putting it in direct competition with a succession of challengers in A/B tests.\n",
        "\n",
        "- Each challenger that leads to significantly better\n",
        "outcomes than the champion becomes the new champion and is, in turn, put into\n",
        "competition against new challengers later.\n",
        "\n",
        "This endless process is called the champion/challenger framework for A/B\n",
        "tests. It’s meant to lead to continuous improvement, continuous refinement, and\n",
        "asymptotic optimization to get to the best-possible performance in all aspects of business.\n",
        "\n",
        "The biggest tech companies in the world run literally hundreds of A/B\n",
        "tests per day, with hundreds of challengers taking on hundreds of champions,\n",
        "sometimes defeating them and sometimes being defeated. The\n",
        "champion/challenger framework is a common approach for setting up and\n",
        "running A/B tests for the most important and most challenging parts of your\n",
        "business.\n"
      ],
      "metadata": {
        "id": "fp87_cm6xq7o"
      }
    },
    {
      "cell_type": "markdown",
      "source": [
        "## Preventing mistakes with Twyman's Law and A/A Testing\n",
        "\n",
        " - The inevitability of mistakes should lead us to be naturally suspicious of\n",
        "anything that seems too good, bad, interesting, or strange to be true.\n",
        "\n",
        "- This natural\n",
        "suspicion is advocated by Twyman’s law, which states that “any figure that looks\n",
        "interesting or different is usually wrong.”\n",
        "\n",
        "This law has been restated in several\n",
        "ways, including “any statistic that appears interesting is almost certainly a\n",
        "mistake” and “the more unusual or interesting the data, the more likely it is to\n",
        "have been the result of an error.”\n",
        "\n",
        "Besides extreme carefulness and natural suspicion of good news, we have\n",
        "another good way to prevent the kinds of interpretive mistakes that Twyman’s\n",
        "law warns against: A/A testing.\n",
        "\n",
        "This type of testing is just what it sounds like; we\n",
        "go through the steps of randomization, treatment, and comparison of two groups\n",
        "just as in A/B testing, but instead of sending two different emails to our two\n",
        "randomized groups, we send the identical email to each group.\n",
        "\n",
        "In this case, we\n",
        "expect the null hypothesis to be true, and we won’t be gullibly convinced by a\n",
        "group that appears to get $100,000 more revenue than the other group.\n",
        "If we consistently find that A/A tests lead to statistically significant\n",
        "differences between groups, we can conclude that our process has a problem: a\n",
        "database gone haywire, a t-test being run incorrectly, an email being pasted\n",
        "wrong, randomization performed incorrectly, or something else.\n",
        "\n",
        "An A/A test\n",
        "would also help us realize that the first test described in this chapter (where\n",
        "Group A consists of younger people and Group B consists of older people) was\n",
        "confounded, since we would know that differences between the results of an A/A\n",
        "test must be due to the differences in age rather than differences between emails.\n",
        "\n",
        "A/A testing can be a useful sanity check that can prevent us from getting carried\n",
        "away by the kind of unusual, interesting, too-good-to-be-true results that\n",
        "Twyman’s law warns us about.\n"
      ],
      "metadata": {
        "id": "D9caXncVxyXb"
      }
    },
    {
      "cell_type": "markdown",
      "source": [
        "## Understanding Effect Sizes\n",
        "\n",
        "In the first A/B test we ran, we observed a difference of 125 dollars between the Group\n",
        "A users who received a black-text email and the Group B users who received a\n",
        "blue-text email. This $125 difference between groups is also called the A/B test’s\n",
        "\n",
        "effect size. It’s natural to try to form a judgment about whether we should\n",
        "consider this 125 dollar effect size a small effect, a medium effect, or a large effect."
      ],
      "metadata": {
        "id": "pVvxqyRYzotK"
      }
    },
    {
      "cell_type": "markdown",
      "source": [
        "To judge whether an effect is small or large, we have to compare it to\n",
        "something else. Consider the following list of nominal GDP figures (in US\n",
        "dollars, as of 2019) for Malaysia, Myanmar, and the Marshall Islands,\n",
        "respectively:"
      ],
      "metadata": {
        "id": "jCFW0pV9z2eU"
      }
    },
    {
      "cell_type": "code",
      "source": [
        "gdps = [365303000000, 65994000000, 220000000]"
      ],
      "metadata": {
        "id": "QRoX58jv0I3m"
      },
      "execution_count": null,
      "outputs": []
    },
    {
      "cell_type": "markdown",
      "source": [
        "When we look at these numbers, $125 starts to seem pretty small. For\n",
        "example, consider the standard deviation of our gdps list:"
      ],
      "metadata": {
        "id": "os0HZJ0A0X3d"
      }
    },
    {
      "cell_type": "code",
      "source": [
        "import numpy as np\n",
        "\n",
        "np.std(gdps)"
      ],
      "metadata": {
        "colab": {
          "base_uri": "https://localhost:8080/"
        },
        "id": "NwWIoH2x0bBt",
        "outputId": "630aa2e8-9972-4694-9752-792ac5f1fbc7"
      },
      "execution_count": null,
      "outputs": [
        {
          "output_type": "execute_result",
          "data": {
            "text/plain": [
              "158884197328.32672"
            ]
          },
          "metadata": {},
          "execution_count": 48
        }
      ]
    },
    {
      "cell_type": "markdown",
      "source": [
        "The standard deviation is a common way to measure how dispersed a\n",
        "dataset is. If we observe a difference between two countries’ GDPs that’s about\n",
        "80 billion dollars, we don’t think of that as outrageously big or outrageously small,\n",
        "because it means those countries are about half of a standard deviation apart, a\n",
        "common magnitude of difference. Instead of expressing the difference as an $80\n",
        "billion difference, you might say that the two countries’ GDPs differed by about\n",
        "half of a standard deviation, and expect to be understood by anyone with some\n",
        "statistical training.\n"
      ],
      "metadata": {
        "id": "w86yIpOR0zN-"
      }
    },
    {
      "cell_type": "markdown",
      "source": [
        "When we talk about the 125 dollars effect size of our A/B test, let’s try to think of it\n",
        "in terms of standard deviations as well. Compared to the standard deviation of\n",
        "the GDP measurements we’ve seen, $125 is small potatoes:"
      ],
      "metadata": {
        "id": "FsBZ_RW51VZG"
      }
    },
    {
      "cell_type": "code",
      "source": [
        "125/np.std(gdps)"
      ],
      "metadata": {
        "colab": {
          "base_uri": "https://localhost:8080/"
        },
        "id": "vSJJVdpA1WNz",
        "outputId": "f299ebef-9b55-4af4-c4b4-b7606fff3ad9"
      },
      "execution_count": null,
      "outputs": [
        {
          "output_type": "execute_result",
          "data": {
            "text/plain": [
              "7.867365169217765e-10"
            ]
          },
          "metadata": {},
          "execution_count": 49
        }
      ]
    },
    {
      "cell_type": "markdown",
      "source": [
        "The output is about 7.9 · 10\n",
        "–10\n",
        ", which shows us that the 125 dollar effect size is a\n",
        "little more than 1 one-billionth of the standard deviation of our GDP figures.\n",
        "Compared to the world of GDP measurements, a $125 difference in GDP is like\n",
        "being a micrometer taller than your friend—not even enough to notice without\n",
        "extremely precise measurement technology"
      ],
      "metadata": {
        "id": "4RO2GY_Q1rE2"
      }
    },
    {
      "cell_type": "markdown",
      "source": [
        "By contrast, suppose we conduct a survey of the prices of burgers at local\n",
        "restaurants. Maybe we find the following prices:"
      ],
      "metadata": {
        "id": "nRE4pLWQ1vg7"
      }
    },
    {
      "cell_type": "code",
      "source": [
        "burgers = [9.00, 12.99, 10.50]\n",
        "\n",
        "np.std(burgers)"
      ],
      "metadata": {
        "colab": {
          "base_uri": "https://localhost:8080/"
        },
        "id": "ap41ahB91yHX",
        "outputId": "d558e7ed-eb77-4060-e393-e9aab7689637"
      },
      "execution_count": null,
      "outputs": [
        {
          "output_type": "execute_result",
          "data": {
            "text/plain": [
              "1.6455394252341695"
            ]
          },
          "metadata": {},
          "execution_count": 50
        }
      ]
    },
    {
      "cell_type": "markdown",
      "source": [
        "The standard deviation of our burger price data is about 1.65. So, two\n",
        "countries’ GDPs differing by about 80 billion is roughly comparable to two\n",
        "burger prices differing by about 80 cents: both represent about half of a standard\n",
        "deviation in their respective domains. When we compare a $125 effect size to\n",
        "this, we see that it’s huge:"
      ],
      "metadata": {
        "id": "M6QWkIsf2t6c"
      }
    },
    {
      "cell_type": "code",
      "source": [
        "125/np.std(burgers)"
      ],
      "metadata": {
        "colab": {
          "base_uri": "https://localhost:8080/"
        },
        "id": "5d3oAAVI214R",
        "outputId": "e1a434e7-152a-4802-d32d-c4ea60c95c76"
      },
      "execution_count": null,
      "outputs": [
        {
          "output_type": "execute_result",
          "data": {
            "text/plain": [
              "75.96293232671214"
            ]
          },
          "metadata": {},
          "execution_count": 51
        }
      ]
    },
    {
      "cell_type": "markdown",
      "source": [
        "We see that 125 is about 75.9 burger price standard deviations. Seeing a $125\n",
        "difference in burger prices in your town is therefore something like seeing a man\n",
        "who is over 20 feet tall—unheard of.\n",
        "By measuring our effect size in terms of the standard deviation of different\n",
        "datasets, we can easily make comparisons, not just between different domains\n",
        "with the same units (GDP in dollars versus burger prices in dollars) but also\n",
        "between different domains that use totally different units (burger prices in dollars\n",
        "versus height in inches). The metric we’ve calculated several times here—an\n",
        "effect size divided by a relevant standard deviation—is called Cohen’s d, a\n",
        "common metric for measuring effect sizes. Cohen’s d is just the number of\n",
        "standard deviations that two populations’ means are apart from each other. We\n",
        "can calculate Cohen’s d for our first A/B test as follows:"
      ],
      "metadata": {
        "id": "CzFSscHb3GXv"
      }
    },
    {
      "cell_type": "code",
      "source": [
        "125/np.std(emailresults1['revenue'])"
      ],
      "metadata": {
        "colab": {
          "base_uri": "https://localhost:8080/"
        },
        "id": "y-ketK_o3I4j",
        "outputId": "793fa29f-3b45-49d2-e697-6caca9cbb3c1"
      },
      "execution_count": null,
      "outputs": [
        {
          "output_type": "execute_result",
          "data": {
            "text/plain": [
              "0.763769235188029"
            ]
          },
          "metadata": {},
          "execution_count": 52
        }
      ]
    },
    {
      "cell_type": "markdown",
      "source": [
        "We see that the result is about 0.76. A common convention when we’re\n",
        "working with Cohen’s d is to say that if Cohen’s d is about 0.2 or lower, we have\n",
        "a small effect; if Cohen’s d is about 0.5, we have a medium effect; and if\n",
        "Cohen’s d is around 0.8 or even higher, we have a large effect. Since our result is\n",
        "about 0.76—quite close to 0.8—we can say that we’re working with a large\n",
        "effect size.\n"
      ],
      "metadata": {
        "id": "FId__cN43YLr"
      }
    },
    {
      "cell_type": "markdown",
      "source": [
        "## Calculating the Significance of Data"
      ],
      "metadata": {
        "id": "h9k1i_XH5BQG"
      }
    },
    {
      "cell_type": "markdown",
      "source": [
        "The probability that a correctly run A/B test will reject a false null hypothesis\n",
        "is called the A/B test’s statistical power. If changing the color of text leads to a\n",
        "125 increase in revenue per user, we can say that 125 is the effect size, and\n",
        "since the effect size is nonzero, we know the null hypothesis (that changing the\n",
        "text color has no effect on revenue) is false. But if we study this true effect by\n",
        "using a sample of only three or four email subscribers, it’s very possible that, by\n",
        "chance, none of these subscribers purchase anything, so we fail to detect the true\n",
        "125 effect. By contrast, if we study the effect of changing the text color by\n",
        "using an email list of a million subscribers, we’re much more likely to detect the\n",
        "$125 effect and measure it as statistically significant. With the million-subscriber\n",
        "list, we have greater statistical power.\n",
        "We can import a module into Python that makes calculating statistical power\n",
        "easy:\n"
      ],
      "metadata": {
        "id": "AlDe8uFApFwZ"
      }
    },
    {
      "cell_type": "code",
      "source": [
        "from statsmodels.stats.power import TTestIndPower"
      ],
      "metadata": {
        "id": "PFO-NmVrpN_F"
      },
      "execution_count": null,
      "outputs": []
    },
    {
      "cell_type": "markdown",
      "source": [
        "To calculate power with this module, we’ll need to define parameters for the\n",
        "three things that determine statistical significance"
      ],
      "metadata": {
        "id": "pqil5aSmpeY-"
      }
    },
    {
      "cell_type": "code",
      "source": [
        "alpha = 0.05 # statistical significance threshold"
      ],
      "metadata": {
        "id": "qDLsRo-2pfbo"
      },
      "execution_count": null,
      "outputs": []
    },
    {
      "cell_type": "markdown",
      "source": [
        "We choose the standard 0.05 threshold for alpha, as is standard in much\n",
        "empirical research. We also need to define our sample size. Suppose we’re\n",
        "running an A/B test on a group of email subscribers that consists of 90 people\n",
        "total. That means we’ll have 45 people in Group A and 45 people in Group B, so\n",
        "we define the number of observations in each of our groups as 45. We’ll store\n",
        "this number in a variable called nobs, short for number of observations:"
      ],
      "metadata": {
        "id": "9xQklRjkpwcc"
      }
    },
    {
      "cell_type": "code",
      "source": [
        "nobs = 45"
      ],
      "metadata": {
        "id": "VopFTUaTpxaM"
      },
      "execution_count": null,
      "outputs": []
    },
    {
      "cell_type": "markdown",
      "source": [
        "We also have to define an estimated effect size. In our previous A/B test, we\n",
        "observed an effect size of $125. However, for the statistical power calculations\n",
        "this module performs, we can’t express the effect size in dollar units or units of\n",
        "any other currency. We’ll use Cohen’s d instead, and we’ll specify a medium\n",
        "size:\n"
      ],
      "metadata": {
        "id": "jLHY-8Qgp3zg"
      }
    },
    {
      "cell_type": "code",
      "source": [
        "effectsize = 0.5"
      ],
      "metadata": {
        "id": "NjvZsPZ1p59J"
      },
      "execution_count": null,
      "outputs": []
    },
    {
      "cell_type": "markdown",
      "source": [
        "Finally, we can use a function that will take the three parameters we’ve\n",
        "defined and calculate the statistical power we should expect:"
      ],
      "metadata": {
        "id": "UMBQRw2CqHSc"
      }
    },
    {
      "cell_type": "code",
      "source": [
        "analysis = TTestIndPower()\n",
        "power = analysis.solve_power(effect_size=effectsize, nobs1=nobs, alpha=alpha)\n",
        "\n",
        "print(power)"
      ],
      "metadata": {
        "colab": {
          "base_uri": "https://localhost:8080/"
        },
        "id": "YePChdCyqIPr",
        "outputId": "cc910e7f-7226-4d8f-df20-3c70d10ee6ed"
      },
      "execution_count": null,
      "outputs": [
        {
          "output_type": "stream",
          "name": "stdout",
          "text": [
            "0.6501855019775578\n"
          ]
        }
      ]
    },
    {
      "cell_type": "markdown",
      "source": [
        "If you run print(power), you can see that the estimated statistical power for\n",
        "our hypothetical A/B test is about 0.65. This means that we expect about a 65\n",
        "percent chance of detecting an effect from our A/B test and about a 35 percent\n",
        "chance that even though a true effect exists, our A/B test doesn’t find it. These\n",
        "odds might seem unfavorable if a given A/B test is expected to be expensive;\n",
        "you’ll have to make your own decisions about the minimum level of power that\n",
        "is acceptable to you. Power calculations can help at the planning stage to\n",
        "understand what to expect and be prepared. One common convention is to\n",
        "authorize only A/B tests that are expected to have at least 80 percent power.\n",
        "You can also use the same solve_power() method we used in the previous\n",
        "snippet to “reverse” the power calculation: you’d start by assuming a certain\n",
        "power level and then calculate the parameters required to achieve that level of\n",
        "statistical power. For example, in the following snippet, we define power, alpha,\n",
        "and our effect size, and run the solve_power() command not to calculate the\n",
        "power but to calculate observations, the number of observations we’ll need in\n",
        "each group to achieve the power level we specified:\n"
      ],
      "metadata": {
        "id": "WHO4AK6hrPE5"
      }
    },
    {
      "cell_type": "code",
      "source": [
        "analysis = TTestIndPower()\n",
        "alpha = 0.05\n",
        "effect = 0.5\n",
        "power = 0.8\n",
        "observations = analysis.solve_power(effect_size=effectsize, power=power, alpha=alpha)\n",
        "print(observations)"
      ],
      "metadata": {
        "colab": {
          "base_uri": "https://localhost:8080/"
        },
        "id": "ya-ThahsrQJd",
        "outputId": "5ad1104a-c21a-4b93-d2f3-978e15a17651"
      },
      "execution_count": null,
      "outputs": [
        {
          "output_type": "stream",
          "name": "stdout",
          "text": [
            "63.7656117754095\n"
          ]
        }
      ]
    },
    {
      "cell_type": "markdown",
      "source": [
        "If you run print(observations), you’ll see that the result is about 63.8. This\n",
        "means that if we want to have 80 percent statistical power for our planned A/B\n",
        "test, we’ll need to recruit at least 64 participants for both groups. Being able to\n",
        "perform these kinds of calculations can be helpful in the planning stages of A/B\n",
        "tests.\n"
      ],
      "metadata": {
        "id": "mGvFFmW7ryCS"
      }
    }
  ]
}